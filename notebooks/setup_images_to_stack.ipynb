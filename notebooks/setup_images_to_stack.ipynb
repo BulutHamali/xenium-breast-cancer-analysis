{
 "cells": [
  {
   "cell_type": "markdown",
   "metadata": {},
   "source": [
    "# Convert individual z-layers and channels to stacks (Setup)\n",
    "\n",
    "Individual images for z-layers and channels are combined to one stack per sample.\n",
    "\n",
    "Run this notebook cell-by-cell and follow the instructions.\n",
    "\n",
    "## Requirements\n",
    "- A folder with images that should be converted\n",
    "\n",
    "<hr style=\"height:2px;\">\n",
    "\n",
    "## Config\n",
    "\n",
    "<hr style=\"height:2px;\">\n",
    "\n",
    "### The following code imports and declares functions used for the processing:"
   ]
  },
  {
   "cell_type": "code",
   "execution_count": null,
   "metadata": {},
   "outputs": [],
   "source": [
    "#################################\n",
    "#  Don't modify the code below  #\n",
    "#################################\n",
    "\n",
    "import os\n",
    "import numpy as np\n",
    "import intake_io\n",
    "from am_utils.utils import walk_dir\n",
    "from punctatools.lib.convert import load_random_dataset, check_metadata, get_number_of_stacks\n",
    "from punctatools.lib.utils import save_parameters"
   ]
  },
  {
   "cell_type": "markdown",
   "metadata": {},
   "source": [
    "<hr style=\"height:2px;\">\n",
    "\n",
    "## Set up the data and parameters\n",
    "\n",
    "<hr style=\"height:2px;\">\n",
    "\n",
    "### Please provide data paths:\n",
    "\n",
    "`input_dir`: folder with images to be converted\n",
    "\n",
    "`output_dir`: folder to save results"
   ]
  },
  {
   "cell_type": "code",
   "execution_count": null,
   "metadata": {
    "tags": [
     "parameters"
    ]
   },
   "outputs": [],
   "source": [
    "input_dir = \"../example_data/slices\"\n",
    "output_dir = \"../test_output/stacks\""
   ]
  },
  {
   "cell_type": "markdown",
   "metadata": {},
   "source": [
    "### The following code lists all image files in the input directory:"
   ]
  },
  {
   "cell_type": "code",
   "execution_count": null,
   "metadata": {
    "scrolled": true
   },
   "outputs": [],
   "source": [
    "#################################\n",
    "#  Don't modify the code below  #\n",
    "#################################\n",
    "\n",
    "input_dir = os.path.realpath(input_dir)\n",
    "\n",
    "samples = walk_dir(input_dir)\n",
    "\n",
    "print(f'{len(samples)} images were found:')\n",
    "print(np.array(samples))"
   ]
  },
  {
   "cell_type": "markdown",
   "metadata": {},
   "source": [
    "### Please specify codes for channel and z-position:\n",
    "\n",
    "Specify the sequence of characters that precedes the channel and z-position numbering, including the separator (e.g. \"_\") that precedes the channel code.\n",
    "\n",
    "For example, if the image name is \"my_experiment_position1_C0_z001.tif\", the codes should be as follows:\n",
    "\n",
    "`channel_code` = \"_C\"\n",
    "\n",
    "`z_position_code` = \"_z\"\n"
   ]
  },
  {
   "cell_type": "code",
   "execution_count": null,
   "metadata": {},
   "outputs": [],
   "source": [
    "channel_code = \"_C\"\n",
    "z_position_code = \"_Z\""
   ]
  },
  {
   "cell_type": "markdown",
   "metadata": {},
   "source": [
    "### The following code returns the number of stacks that were found\n",
    "\n",
    "If execution results in an error, make sure the channel and z-position codes are provided correctly. Note the the codes are case-sensitive"
   ]
  },
  {
   "cell_type": "code",
   "execution_count": null,
   "metadata": {},
   "outputs": [],
   "source": [
    "#################################\n",
    "#  Don't modify the code below  #\n",
    "#################################\n",
    "\n",
    "n = get_number_of_stacks(input_dir, channel_code=channel_code, z_position_code=z_position_code)\n",
    "n"
   ]
  },
  {
   "cell_type": "markdown",
   "metadata": {},
   "source": [
    "### The following code checks image metadata"
   ]
  },
  {
   "cell_type": "code",
   "execution_count": null,
   "metadata": {},
   "outputs": [],
   "source": [
    "#################################\n",
    "#  Don't modify the code below  #\n",
    "#################################\n",
    "\n",
    "dataset, spacing = check_metadata(input_dir, channel_code=channel_code, z_position_code=z_position_code)\n",
    "print('The following voxel size was detected:')\n",
    "for s, c in zip(spacing, ['z', 'y', 'x']):\n",
    "    print(rf\"{c}: {s}\")"
   ]
  },
  {
   "cell_type": "markdown",
   "metadata": {},
   "source": [
    "### Please specify correct voxel size \n",
    "\n",
    "Keep `None`, if the value loaded from the dataset is correct"
   ]
  },
  {
   "cell_type": "code",
   "execution_count": null,
   "metadata": {},
   "outputs": [],
   "source": [
    "z = 0.2\n",
    "y = None\n",
    "x = None"
   ]
  },
  {
   "cell_type": "markdown",
   "metadata": {},
   "source": [
    "### The following code loads a random stack with correct voxel size"
   ]
  },
  {
   "cell_type": "code",
   "execution_count": null,
   "metadata": {},
   "outputs": [],
   "source": [
    "#################################\n",
    "#  Don't modify the code below  #\n",
    "#################################\n",
    "\n",
    "dataset = load_random_dataset(input_dir, channel_code=channel_code, z_position_code=z_position_code, spacing=[z,y,x])\n",
    "dataset"
   ]
  },
  {
   "cell_type": "markdown",
   "metadata": {},
   "source": [
    "<hr style=\"height:2px;\">\n",
    "\n",
    "## Run the full processing\n",
    "\n",
    "The parameters set up in this notebook will be used to convert images in batch.\n",
    "\n",
    "<hr style=\"height:2px;\">\n",
    "\n",
    "### Please provide the file name to save the parameters\n",
    "\n",
    "Default is `parameters.json`"
   ]
  },
  {
   "cell_type": "code",
   "execution_count": null,
   "metadata": {},
   "outputs": [],
   "source": [
    "parameter_file = 'parameters.json'"
   ]
  },
  {
   "cell_type": "markdown",
   "metadata": {},
   "source": [
    "### Please specify the number of processes to run in parallel\n",
    "\n",
    "\n",
    "`n_jobs`: number of processes to run in parallel. Set according to your workstation resources. Decrease if it runs out of memory. (Default is 8)"
   ]
  },
  {
   "cell_type": "code",
   "execution_count": null,
   "metadata": {},
   "outputs": [],
   "source": [
    "n_jobs=8"
   ]
  },
  {
   "cell_type": "markdown",
   "metadata": {},
   "source": [
    "### The following code saves the parameters\n",
    "\n",
    "To run the full processing, run the notebook [run_images_to_stack.ipynb](run_images_to_stack.ipynb) with the parameter file specified here."
   ]
  },
  {
   "cell_type": "code",
   "execution_count": null,
   "metadata": {},
   "outputs": [],
   "source": [
    "#################################\n",
    "#  Don't modify the code below  #\n",
    "#################################\n",
    "\n",
    "spacing = list(intake_io.get_spacing(dataset))\n",
    "\n",
    "params = dict(\n",
    "    parameter_file_path=os.path.realpath(parameter_file),\n",
    "    raw_dir=os.path.realpath(input_dir),\n",
    "    converted_data_dir=os.path.realpath(output_dir),\n",
    "    spacing=spacing,\n",
    "    channel_code=channel_code,\n",
    "    z_position_code=z_position_code,\n",
    "    n_jobs=n_jobs\n",
    ")\n",
    "params = save_parameters(params, parameter_file)\n",
    "    \n",
    "params"
   ]
  },
  {
   "cell_type": "code",
   "execution_count": null,
   "metadata": {},
   "outputs": [],
   "source": []
  },
  {
   "cell_type": "code",
   "execution_count": null,
   "metadata": {},
   "outputs": [],
   "source": []
  }
 ],
 "metadata": {
  "kernelspec": {
   "display_name": "Python [conda env:punctatools]",
   "language": "python",
   "name": "conda-env-punctatools-py"
  },
  "language_info": {
   "codemirror_mode": {
    "name": "ipython",
    "version": 3
   },
   "file_extension": ".py",
   "mimetype": "text/x-python",
   "name": "python",
   "nbconvert_exporter": "python",
   "pygments_lexer": "ipython3",
   "version": "3.9.0"
  }
 },
 "nbformat": 4,
 "nbformat_minor": 4
}
