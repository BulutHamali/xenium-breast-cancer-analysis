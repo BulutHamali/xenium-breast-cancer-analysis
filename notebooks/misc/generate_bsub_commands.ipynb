{
 "cells": [
  {
   "cell_type": "markdown",
   "id": "322e6444-5259-41bd-96d7-f961ac140afb",
   "metadata": {},
   "source": [
    "### Provide the path to parameter file"
   ]
  },
  {
   "cell_type": "code",
   "execution_count": 1,
   "id": "7716fd62-88ab-4e5b-b4d9-40437f28a6ac",
   "metadata": {},
   "outputs": [],
   "source": [
    "parameter_file = '/research/sharedresources/cbi/public/data/example_data/punctatools/parameters.json'"
   ]
  },
  {
   "cell_type": "markdown",
   "id": "5e0091bc-4a3e-41ec-b704-e29f09799cca",
   "metadata": {},
   "source": [
    "### Advanced parameters\n",
    "\n",
    "`n_gpu`: number of GPUs to use for cellpose segmentation\n",
    "\n",
    "`mem_cellpose`: memory limit for cellpose segmentation, gigabytes (CPU memory?)\n",
    "\n",
    "`n_cores`: number of cores to request for the puncta analysis; should be greater or equal to the `n_jobs` parameter\n",
    "\n",
    "`mem_puncta`: memory limit per core for the puncta analysis; increase if the puncta analysis runs out of memory"
   ]
  },
  {
   "cell_type": "code",
   "execution_count": 2,
   "id": "007572b2-8ada-4eb9-b613-545ef30e2e52",
   "metadata": {},
   "outputs": [],
   "source": [
    "n_gpu = 1\n",
    "mem_cellpose = 20\n",
    "n_cores = 20\n",
    "mem_puncta = 5\n",
    "\n",
    "script_name_roi = '/research/sharedresources/cbi/public/scripts/run_roi_segmentation.py'\n",
    "script_name_puncta = '/research/sharedresources/cbi/public/scripts/run_puncta_analysis.py'\n",
    "python_path = \"'/research/sharedresources/cbi/public/conda_envs/punctatools/bin/:$PATH'\""
   ]
  },
  {
   "cell_type": "markdown",
   "id": "2a0fcc46-68a7-4fa6-8230-f1aca40dcde1",
   "metadata": {},
   "source": [
    "### The following code generates a bsub command for cell segmentation\n",
    "\n",
    "Log in into the computational cluster (see details [here](https://wiki.stjude.org/display/RC/HPC+Basics+Bootcamp)); copy the generated command and insert into the cluster bash prompt. This will submit the job. You will be notified by email once the job is completed."
   ]
  },
  {
   "cell_type": "code",
   "execution_count": 3,
   "id": "e1ef169f-8a32-401e-8af3-16e85455b1ed",
   "metadata": {},
   "outputs": [
    {
     "name": "stdout",
     "output_type": "stream",
     "text": [
      "bsub -P Puncta -J CellSegm -q gpu -gpu \"num=1:mode=exclusive_process\" -R \"rusage[mem=20G]\" \"export PATH='/research/sharedresources/cbi/public/conda_envs/punctatools/bin/:$PATH'; python '/research/sharedresources/cbi/public/scripts/run_roi_segmentation.py' -p '/research/sharedresources/cbi/public/data/example_data/punctatools/parameters.json'\"\n"
     ]
    }
   ],
   "source": [
    "import os\n",
    "command = rf'python \"{os.path.realpath(script_name_roi)}\" -p \"{os.path.realpath(parameter_file)}\"'\n",
    "command = f'bsub -P Puncta -J CellSegm -q gpu -gpu \"num={n_gpu}:mode=exclusive_process\" '\\\n",
    "          f'-R \"rusage[mem={mem_cellpose}G]\" \"export PATH={python_path}; ' \\\n",
    "        + command.replace('\"', '\\'') + \"\\\"\"\n",
    "print(command)"
   ]
  },
  {
   "cell_type": "markdown",
   "id": "a7b0e9d9-e2b3-4e0f-9128-d99624b814f0",
   "metadata": {},
   "source": [
    "### The following code generates a bsub command for cell segmentation\n",
    "\n",
    "After the cell segmentation is complete, copy the following command into the cluster prompt to submit the puncta analysis"
   ]
  },
  {
   "cell_type": "code",
   "execution_count": 4,
   "id": "4bc800ef-78a8-4aea-9186-98b257ef4784",
   "metadata": {},
   "outputs": [
    {
     "name": "stdout",
     "output_type": "stream",
     "text": [
      "bsub -P Puncta -J PunctaAnalysis -q standard -n 20 -R \"rusage[mem=5G]\"  \"export PATH='/research/sharedresources/cbi/public/conda_envs/punctatools/bin/:$PATH'; python '/research/sharedresources/cbi/public/scripts/run_puncta_analysis.py' -p '/research/sharedresources/cbi/public/data/example_data/punctatools/parameters.json'\"\n"
     ]
    }
   ],
   "source": [
    "command = rf'python \"{os.path.realpath(script_name_puncta)}\" -p \"{os.path.realpath(parameter_file)}\"'\n",
    "command = f'bsub -P Puncta -J PunctaAnalysis -q standard -n {n_cores} -R \"rusage[mem={mem_puncta}G]\" '\\\n",
    "          f' \"export PATH={python_path}; ' \\\n",
    "        + command.replace('\"', '\\'') + \"\\\"\"\n",
    "print(command)"
   ]
  },
  {
   "cell_type": "code",
   "execution_count": null,
   "id": "884c9a88-b3d0-49df-ba17-811d48847ffc",
   "metadata": {},
   "outputs": [],
   "source": []
  }
 ],
 "metadata": {
  "kernelspec": {
   "display_name": "Python [conda env:punctatools]",
   "language": "python",
   "name": "conda-env-punctatools-py"
  },
  "language_info": {
   "codemirror_mode": {
    "name": "ipython",
    "version": 3
   },
   "file_extension": ".py",
   "mimetype": "text/x-python",
   "name": "python",
   "nbconvert_exporter": "python",
   "pygments_lexer": "ipython3",
   "version": "3.9.0"
  }
 },
 "nbformat": 4,
 "nbformat_minor": 5
}
