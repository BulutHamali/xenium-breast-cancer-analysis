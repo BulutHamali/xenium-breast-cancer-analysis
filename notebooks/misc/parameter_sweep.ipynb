{
 "cells": [
  {
   "cell_type": "markdown",
   "id": "bddf381b-6e82-4a97-8239-4ea564de2b3d",
   "metadata": {},
   "source": [
    "# Parameter sweep for the puncta analysis\n",
    "\n",
    "## Requirements\n",
    "- A folder with images that should be analyzed.  All z-layers for a specific sample must be combined into a single file. To combine z-layers and channels, run [run_images_to_stack.ipynb](run_images_to_stack.ipynb). \n",
    "\n",
    "- To compute puncta statistics per cell, cell segmentation should be provided as an additional channel. To segment cells/nuclei, run [run_cell_segmentation.ipynb](run_cell_segmentation.ipynb).\n",
    "\n",
    "<hr style=\"height:2px;\">\n",
    "\n",
    "## Config\n",
    "\n",
    "<hr style=\"height:2px;\">\n",
    "\n",
    "### The following code imports and declares functions used for the processing:"
   ]
  },
  {
   "cell_type": "code",
   "execution_count": 1,
   "id": "704ca572-a041-4ea8-b13d-a45bfdaacfbf",
   "metadata": {},
   "outputs": [
    {
     "name": "stdout",
     "output_type": "stream",
     "text": [
      "2022-01-24 15:12:44,465 [INFO] WRITING LOG OUTPUT TO /home/amedyukh/.cellpose/run.log\n"
     ]
    }
   ],
   "source": [
    "#################################\n",
    "#  Don't modify the code below  #\n",
    "#################################\n",
    "\n",
    "import json\n",
    "import os\n",
    "import itertools\n",
    "import pandas as pd \n",
    "import copy\n",
    "from am_utils.utils import combine_statistics\n",
    "from punctatools.lib.segment import segment_puncta_batch\n",
    "from punctatools.lib.quantify import quantify_batch\n",
    "from punctatools.lib.utils import load_parameters"
   ]
  },
  {
   "cell_type": "markdown",
   "id": "4949b9d5-cc92-4322-83b7-1bfdb48208aa",
   "metadata": {},
   "source": [
    "### Specify the parameter file with the default parameter values\n"
   ]
  },
  {
   "cell_type": "code",
   "execution_count": 2,
   "id": "66a2a439-a872-463c-9923-65ea169ac7ba",
   "metadata": {},
   "outputs": [],
   "source": [
    "parameter_file = '/research/sharedresources/cbi/public/data/example_data/punctatools/parameters.json'"
   ]
  },
  {
   "cell_type": "markdown",
   "id": "5153e349-8b77-4f12-b52f-2170e585f6e1",
   "metadata": {},
   "source": [
    "### Specidy the output directory for the parameter sweep"
   ]
  },
  {
   "cell_type": "code",
   "execution_count": 3,
   "id": "967cabfc-3ace-429e-a0b7-a427c4fdbf6d",
   "metadata": {},
   "outputs": [],
   "source": [
    "output_dir = '/research/sharedresources/cbi/public/data/_outputs/punctatools/parameter_sweep'"
   ]
  },
  {
   "cell_type": "markdown",
   "id": "047881c1-3d2a-49af-9be0-07d326a56fe3",
   "metadata": {},
   "source": [
    "### Script path for puncta analysis"
   ]
  },
  {
   "cell_type": "code",
   "execution_count": 4,
   "id": "37625f74-e24a-43af-a223-2d315ef41086",
   "metadata": {},
   "outputs": [],
   "source": [
    "script_name_puncta = '/research/sharedresources/cbi/public/scripts/run_puncta_analysis.py'"
   ]
  },
  {
   "cell_type": "markdown",
   "id": "f00f9244-7266-463e-8398-5e39c77d8d63",
   "metadata": {},
   "source": [
    "### Do you want to run the analysis now or submit to the cluster?\n",
    "\n",
    "Specify `True` for running now, `False` for submitting to the cluster. To submit to the cluster, copy all commands to the cluster prompt. See more details on the computational cluster [here](https://wiki.stjude.org/display/RC/HPC+Basics+Bootcamp)."
   ]
  },
  {
   "cell_type": "code",
   "execution_count": 5,
   "id": "1cb350f8-05c6-4e0e-bcdb-c917616aef1e",
   "metadata": {},
   "outputs": [],
   "source": [
    "run_now = False"
   ]
  },
  {
   "cell_type": "markdown",
   "id": "3535672d-3f81-4439-ae58-f6cbd7f8b91e",
   "metadata": {},
   "source": [
    "### Specify parameters for the cluster execution\n",
    "\n",
    "\n",
    "`n_cores`: number of cores to use for parallel analysis\n",
    "\n",
    "`memory`: memory limit per core in Gigabytes"
   ]
  },
  {
   "cell_type": "code",
   "execution_count": 6,
   "id": "f8c2a361-db2b-45db-b605-da63d4a56d36",
   "metadata": {},
   "outputs": [],
   "source": [
    "n_cores = 20\n",
    "memory = 5\n",
    "\n",
    "python_path = \"'/research/sharedresources/cbi/public/conda_envs/punctatools/bin/:$PATH'\""
   ]
  },
  {
   "cell_type": "markdown",
   "id": "daabedde-7986-4a83-833b-b2c8c905f995",
   "metadata": {},
   "source": [
    "\n",
    "### The following code loads the parameters "
   ]
  },
  {
   "cell_type": "code",
   "execution_count": 7,
   "id": "6b5775ec-9978-4a6c-9b77-00d9a40434a3",
   "metadata": {
    "tags": []
   },
   "outputs": [
    {
     "data": {
      "text/plain": [
       "{'converted_data_dir': '/research/sharedresources/cbi/public/data/example_data/punctatools/stacks',\n",
       " 'cell_segmentation_dir': '/research/sharedresources/cbi/public/data/_outputs/punctatools/cells',\n",
       " 'cells_channel': 0,\n",
       " 'diameter': 120,\n",
       " 'model_type': 'cyto',\n",
       " 'do_3D': True,\n",
       " 'remove_small_mode': '2D',\n",
       " 'remove_small_diam_fraction': 0.5,\n",
       " 'flow_threshold': 0.4,\n",
       " 'cellprob_threshold': 0,\n",
       " 'gpu': True,\n",
       " 'puncta_analysis_dir': '/research/sharedresources/cbi/public/data/_outputs/punctatools/parameter_sweep',\n",
       " 'puncta_segm_dir': 'puncta',\n",
       " 'puncta_stat_dir': 'puncta_stats',\n",
       " 'cell_stat_dir': 'cell_stats',\n",
       " 'puncta_channels': [1, 2],\n",
       " 'cell_segmentation': True,\n",
       " 'minsize_um': 0.2,\n",
       " 'maxsize_um': 2,\n",
       " 'num_sigma': 5,\n",
       " 'overlap': 1,\n",
       " 'threshold_detection': [0.001, 0.0001],\n",
       " 'threshold_background': 3,\n",
       " 'global_background': False,\n",
       " 'global_background_percentile': 95,\n",
       " 'background_percentile': 50,\n",
       " 'threshold_segmentation': 50,\n",
       " 'segmentation_mode': 1,\n",
       " 'remove_out_of_cell': False,\n",
       " 'maxrad_um': None,\n",
       " 'n_jobs': 8,\n",
       " 'channel_names': ['ch0', 'ch1', 'ch3']}"
      ]
     },
     "execution_count": 7,
     "metadata": {},
     "output_type": "execute_result"
    }
   ],
   "source": [
    "#################################\n",
    "#  Don't modify the code below  #\n",
    "#################################\n",
    "\n",
    "with open(parameter_file) as f:\n",
    "    kwargs = json.load(f)\n",
    "\n",
    "kwargs['puncta_analysis_dir'] = os.path.realpath(output_dir)\n",
    "kwargs"
   ]
  },
  {
   "cell_type": "markdown",
   "id": "1537f804-2e7b-418c-8be9-f1b52c632273",
   "metadata": {},
   "source": [
    "### Please specify the parameter values you would like to sweep over"
   ]
  },
  {
   "cell_type": "code",
   "execution_count": 8,
   "id": "ed014c0f-3136-4a86-ad92-2c08c9fed66e",
   "metadata": {},
   "outputs": [],
   "source": [
    "threshold_detection = [0.003, 0.002]\n",
    "threshold_segmentation = [0.001]\n",
    "threshold_background = [3]"
   ]
  },
  {
   "cell_type": "markdown",
   "id": "5203b097-ea5c-4c11-97d2-5453e8f38394",
   "metadata": {},
   "source": [
    "<hr style=\"height:2px;\">\n",
    "\n",
    "## Processing\n",
    "\n",
    "<hr style=\"height:2px;\">\n",
    "\n",
    "### The following code prints all parameter combinations"
   ]
  },
  {
   "cell_type": "code",
   "execution_count": 9,
   "id": "398e8386-be94-4ce5-9a3b-8053d37e357e",
   "metadata": {},
   "outputs": [
    {
     "name": "stdout",
     "output_type": "stream",
     "text": [
      "Parameters to sweep over\n",
      "threshold_detection: [0.003, 0.002]\n",
      "threshold_segmentation: [0.001]\n",
      "threshold_background: [3]\n",
      "\n",
      "Number of combinations: 2:\n",
      "(0.003, 0.001, 3)\n",
      "(0.002, 0.001, 3)\n",
      "\n",
      "Does this look correct? If not, go back and specify the parameter values to sweep over\n"
     ]
    }
   ],
   "source": [
    "#################################\n",
    "#  Don't modify the code below  #\n",
    "#################################\n",
    "\n",
    "\n",
    "sweep_vars = []\n",
    "sweep_values = []\n",
    "\n",
    "cur_vars = vars().copy()\n",
    "for var in cur_vars.keys():\n",
    "    if var in kwargs and var != 'output_dir':\n",
    "        sweep_vars.append(var)\n",
    "        sweep_values.append(cur_vars[var])\n",
    "        \n",
    "print('Parameters to sweep over')\n",
    "for k, v in zip(sweep_vars, sweep_values):\n",
    "    print(rf\"{k}: {v}\")\n",
    "\n",
    "combinations = list(itertools.product(*sweep_values))\n",
    "\n",
    "print(f'\\nNumber of combinations: {len(combinations)}:')\n",
    "for c in combinations:\n",
    "    print(c)\n",
    "    \n",
    "print('\\nDoes this look correct? If not, go back and specify the parameter values to sweep over')"
   ]
  },
  {
   "cell_type": "markdown",
   "id": "f7399049-d87e-4482-90be-bf70f3f5559b",
   "metadata": {},
   "source": [
    "### The following code runs the batch analysis for the given parameter combinations or generates bsub commands\n"
   ]
  },
  {
   "cell_type": "code",
   "execution_count": 10,
   "id": "b0af5e83-266e-4268-944a-f2f8bfbd326e",
   "metadata": {
    "scrolled": true,
    "tags": []
   },
   "outputs": [
    {
     "name": "stdout",
     "output_type": "stream",
     "text": [
      "bsub -P Puncta -J ParamSweep -q standard -n 20 -R \"rusage[mem=5G]\"  \"export PATH='/research/sharedresources/cbi/public/conda_envs/punctatools/bin/:$PATH'; python '/research/sharedresources/cbi/public/scripts/run_puncta_analysis.py' -p /research/sharedresources/cbi/public/data/_outputs/punctatools/parameter_sweep/threshold_detection=0.003_threshold_segmentation=0.001_threshold_background=3/parameters.json\"\n",
      "\n",
      "\n",
      "bsub -P Puncta -J ParamSweep -q standard -n 20 -R \"rusage[mem=5G]\"  \"export PATH='/research/sharedresources/cbi/public/conda_envs/punctatools/bin/:$PATH'; python '/research/sharedresources/cbi/public/scripts/run_puncta_analysis.py' -p /research/sharedresources/cbi/public/data/_outputs/punctatools/parameter_sweep/threshold_detection=0.002_threshold_segmentation=0.001_threshold_background=3/parameters.json\"\n",
      "\n",
      "\n"
     ]
    }
   ],
   "source": [
    "#################################\n",
    "#  Don't modify the code below  #\n",
    "#################################\n",
    "\n",
    "outputs = []\n",
    "if not run_now:\n",
    "    kwargs['n_jobs'] = n_cores\n",
    "\n",
    "for vals in combinations:\n",
    "    if run_now:\n",
    "        print('Parameter values:', vals)\n",
    "    kwargs_new = kwargs.copy()\n",
    "    fn_out = ''\n",
    "    for k, v in zip(sweep_vars, vals):\n",
    "        kwargs_new[k] = v\n",
    "        fn_out += rf\"{k}={v}_\"\n",
    "        \n",
    "    fn_out = fn_out.rstrip('_')\n",
    "    kwargs_new['puncta_analysis_dir'] = os.path.join(kwargs['puncta_analysis_dir'], fn_out)\n",
    "    outputs.append(kwargs_new['puncta_analysis_dir'])\n",
    "    p_file = os.path.realpath(os.path.join(kwargs_new['puncta_analysis_dir'], 'parameters.json'))\n",
    "    \n",
    "    if run_now:\n",
    "        print('Output_dir:', fn_out)\n",
    "    \n",
    "    os.makedirs(kwargs_new['puncta_analysis_dir'], exist_ok=True)\n",
    "    \n",
    "    with open(p_file, 'w') as f:\n",
    "        json.dump(kwargs_new, f, indent=4)\n",
    "        \n",
    "    command = rf'python \"{os.path.realpath(script_name_puncta)}\" -p {p_file}'\n",
    "    if run_now:\n",
    "        print('Run the analysis...')\n",
    "        os.system(command)\n",
    "    else:\n",
    "        command = f'bsub -P Puncta -J ParamSweep -q standard -n {n_cores} -R \"rusage[mem={memory}G]\" '\\\n",
    "          f' \"export PATH={python_path}; ' \\\n",
    "        + command.replace('\"', '\\'') + \"\\\"\"\n",
    "        print(command)\n",
    "    \n",
    "    print('\\n')\n",
    "        "
   ]
  },
  {
   "cell_type": "markdown",
   "id": "fdee49cd-f78a-4edf-95a8-ab28b29f923d",
   "metadata": {},
   "source": [
    "### The following code combines statistics\n",
    "\n",
    "If the analysis was submitted to the cluster, wait for it to complete before running this cell."
   ]
  },
  {
   "cell_type": "code",
   "execution_count": null,
   "id": "4599ae6a-bd41-4f39-bf24-1d466ba50d12",
   "metadata": {},
   "outputs": [],
   "source": [
    "#################################\n",
    "#  Don't modify the code below  #\n",
    "#################################\n",
    "\n",
    "roi_quant_dr = kwargs['roi_quant_dir']\n",
    "puncta_quant_dr = kwargs['puncta_quant_dir']\n",
    "\n",
    "stats = [pd.DataFrame()]*2\n",
    "\n",
    "for vals, op in zip(combinations, outputs):\n",
    "    for i, quant_dir in enumerate([roi_quant_dr, puncta_quant_dr]):\n",
    "        fn = os.path.join(op, quant_dir + '.csv')\n",
    "        df = pd.read_csv(fn)\n",
    "        \n",
    "        for k, v in zip(sweep_vars, vals):\n",
    "            df[k] = v\n",
    "        stats[i] = pd.concat([stats[i], df], ignore_index=True)\n",
    "        \n",
    "for i, stat_dir in enumerate([roi_quant_dr, puncta_quant_dr]):\n",
    "    stats[i].to_csv(os.path.join(kwargs['puncta_analysis_dir'], stat_dir + '.csv'))"
   ]
  },
  {
   "cell_type": "code",
   "execution_count": null,
   "id": "7770c58f-3cdf-42c9-8b7a-1854dfe47507",
   "metadata": {},
   "outputs": [],
   "source": []
  }
 ],
 "metadata": {
  "kernelspec": {
   "display_name": "Python [conda env:punctatools]",
   "language": "python",
   "name": "conda-env-punctatools-py"
  },
  "language_info": {
   "codemirror_mode": {
    "name": "ipython",
    "version": 3
   },
   "file_extension": ".py",
   "mimetype": "text/x-python",
   "name": "python",
   "nbconvert_exporter": "python",
   "pygments_lexer": "ipython3",
   "version": "3.9.0"
  }
 },
 "nbformat": 4,
 "nbformat_minor": 5
}
