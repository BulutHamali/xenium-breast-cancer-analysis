{
 "cells": [
  {
   "cell_type": "markdown",
   "metadata": {},
   "source": [
    "# Analysis of GFP mean and integrated intensity vs GFP concentration\n",
    "\n",
    "## Config\n",
    "\n",
    "### The following code imports and declares functions used for the processing:"
   ]
  },
  {
   "cell_type": "code",
   "execution_count": null,
   "metadata": {},
   "outputs": [],
   "source": [
    "#################################\n",
    "#  Don't modify the code below  #\n",
    "#################################\n",
    "\n",
    "import intake_io\n",
    "import os\n",
    "import re\n",
    "import numpy as np\n",
    "import pylab as plt\n",
    "import seaborn as sns\n",
    "from skimage import io\n",
    "import pandas as pd\n",
    "from tqdm import tqdm\n",
    "from skimage.measure import regionprops_table\n",
    "\n",
    "from am_utils.utils import walk_dir, imsave\n",
    "from am_utils.parallel import run_parallel\n",
    "\n",
    "from punctatools.lib.preprocess import rescale_intensity"
   ]
  },
  {
   "cell_type": "markdown",
   "metadata": {},
   "source": [
    "## Data & parameters\n",
    "\n",
    "### Data\n",
    "`input_dir`: folder with images to be analyzed\n",
    "\n",
    "`output_dir`: folder to save results\n"
   ]
  },
  {
   "cell_type": "markdown",
   "metadata": {},
   "source": [
    "## Specify data paths and analysis parameters\n",
    "\n",
    "### Please provide data paths:"
   ]
  },
  {
   "cell_type": "code",
   "execution_count": null,
   "metadata": {},
   "outputs": [],
   "source": [
    "input_dir = \"/research/sharedresources/cbi/data_exchange/kriwagrp/0520201_GFPcalibration/converted_tiff\"\n",
    "output_dir = \"/research/sharedresources/cbi/data_exchange/kriwagrp/0520201_GFPcalibration\""
   ]
  },
  {
   "cell_type": "markdown",
   "metadata": {},
   "source": [
    "### The following code lists all datasets in the input directory:"
   ]
  },
  {
   "cell_type": "code",
   "execution_count": null,
   "metadata": {
    "scrolled": true
   },
   "outputs": [],
   "source": [
    "#################################\n",
    "#  Don't modify the code below  #\n",
    "#################################\n",
    "samples = walk_dir(input_dir)\n",
    "\n",
    "print(f'{len(samples)} images were found:')\n",
    "print(np.array(samples))"
   ]
  },
  {
   "cell_type": "markdown",
   "metadata": {},
   "source": [
    "### The following code loads a sample dataset:"
   ]
  },
  {
   "cell_type": "code",
   "execution_count": null,
   "metadata": {},
   "outputs": [],
   "source": [
    "#################################\n",
    "#  Don't modify the code below  #\n",
    "#################################\n",
    "\n",
    "sample = samples[np.random.randint(len(samples))]\n",
    "dataset = intake_io.imload(sample)\n",
    "print(dataset)\n"
   ]
  },
  {
   "cell_type": "markdown",
   "metadata": {},
   "source": [
    "### The following code displays the maxprojection of the puncta channel:"
   ]
  },
  {
   "cell_type": "code",
   "execution_count": null,
   "metadata": {},
   "outputs": [],
   "source": [
    "#################################\n",
    "#  Don't modify the code below  #\n",
    "#################################\n",
    "\n",
    "plt.figure(figsize=(10,10))\n",
    "io.imshow(rescale_intensity(dataset['image'].data.max(0)))"
   ]
  },
  {
   "cell_type": "markdown",
   "metadata": {},
   "source": [
    "### The following code quantifies all input images:"
   ]
  },
  {
   "cell_type": "code",
   "execution_count": null,
   "metadata": {},
   "outputs": [],
   "source": [
    "%%time\n",
    "#################################\n",
    "#  Don't modify the code below  #\n",
    "#################################\n",
    "\n",
    "def quantify(item, input_dir, output_dir,  **kwargs_to_ignore):\n",
    "    sample = item\n",
    "    dataset = intake_io.imload(sample)\n",
    "      \n",
    "    puncta_signal = np.array(dataset['image'].data)\n",
    "\n",
    "    stats = pd.DataFrame(regionprops_table(label_image=np.ones_like(puncta_signal),\n",
    "                                           intensity_image=puncta_signal,\n",
    "                                           properties=['area', 'mean_intensity']))\n",
    "\n",
    "    stats = stats.rename(columns={'area': 'image volume pix', 'mean_intensity':  'GFP mean intensity per image'}) \n",
    "    stats['GFP integrated intensity per image'] = stats['GFP mean intensity per image'] * stats['image volume pix']\n",
    "      \n",
    "    condition = sample.split('/')[-2]\n",
    "    p_nm = re.compile(rf'([0-9]*\\.?[0-9]+)nM')\n",
    "    p_um = re.compile(rf'([0-9]*\\.?[0-9]+)uM')\n",
    "    conc_nM = 0\n",
    "    if len(p_nm.findall(condition)) > 0:\n",
    "        conc_nM = float(p_nm.findall(condition)[0])\n",
    "    if len(p_um.findall(condition)) > 0:\n",
    "        conc_nM = float(p_um.findall(condition)[0]) * 1000\n",
    "    \n",
    "    stats['condition'] = condition\n",
    "    stats['GFP concentration nM'] = conc_nM\n",
    "    stats['sample'] = sample.split('/')[-1]\n",
    "    \n",
    "    sample_name = sample[len(input_dir):].replace(sample.split('.')[-1], '')\n",
    "    \n",
    "    # save the stats\n",
    "    os.makedirs(os.path.dirname(output_dir + '/quantification' + sample_name + 'csv'), exist_ok=True)\n",
    "    stats.to_csv(output_dir + '/quantification' + sample_name + 'csv', index=False)\n",
    "    \n",
    "    return\n",
    "\n",
    "# specify the analysis arguments\n",
    "kwargs = dict()\n",
    "kwargs['items'] = samples\n",
    "kwargs['input_dir'] = input_dir\n",
    "kwargs['output_dir'] = output_dir\n",
    "\n",
    "for item in tqdm(samples):\n",
    "    quantify(item=item, **kwargs)\n",
    "\n",
    "# combine the cell stats\n",
    "print('Combining stats...')\n",
    "stats = pd.DataFrame()\n",
    "for fn in walk_dir(os.path.join(output_dir, 'quantification')):\n",
    "    stats = pd.concat([stats, pd.read_csv(fn)], ignore_index=False)\n",
    "stats.to_csv(output_dir + '/quantification.csv', index=False)"
   ]
  },
  {
   "cell_type": "code",
   "execution_count": null,
   "metadata": {},
   "outputs": [],
   "source": [
    "stats"
   ]
  },
  {
   "cell_type": "markdown",
   "metadata": {},
   "source": [
    "### The following code plots cell stats over conditions:"
   ]
  },
  {
   "cell_type": "code",
   "execution_count": null,
   "metadata": {},
   "outputs": [],
   "source": [
    "#################################\n",
    "#  Don't modify the code below  #\n",
    "#################################\n",
    "os.makedirs(output_dir + '/plots', exist_ok=True)\n",
    "stats = pd.read_csv(output_dir + '/quantification.csv')\n",
    "for col in ['GFP concentration nM', 'GFP mean intensity per image', 'GFP integrated intensity per image']:\n",
    "    stats['Log ' + col] = np.log10(stats[col])\n",
    "\n",
    "plt.figure(figsize=(10, 6))\n",
    "ax = sns.scatterplot(x = 'GFP concentration nM', y='GFP mean intensity per image', data=stats) \n",
    "plt.savefig(output_dir + '/plots/' + 'mean_intensity_vs_GFP_concentration.png')   \n",
    "\n",
    "plt.figure(figsize=(10, 6))\n",
    "ax = sns.scatterplot(x = 'GFP concentration nM', y='GFP integrated intensity per image', data=stats) \n",
    "plt.savefig(output_dir + '/plots/' + 'integrated_intensity_vs_GFP_concentration.png')   \n",
    "\n",
    "plt.figure(figsize=(10, 6))\n",
    "ax = sns.scatterplot(x = 'Log ' + 'GFP concentration nM', y='Log ' + 'GFP mean intensity per image', data=stats) \n",
    "plt.savefig(output_dir + '/plots/' + 'mean_intensity_vs_GFP_concentration_logscale.png')   \n",
    "\n",
    "plt.figure(figsize=(10, 6))\n",
    "ax = sns.scatterplot(x = 'Log ' + 'GFP concentration nM', y='Log ' + 'GFP integrated intensity per image', data=stats) \n",
    "plt.savefig(output_dir + '/plots/' + 'integrated_intensity_vs_GFP_concentration_logscale.png')   "
   ]
  },
  {
   "cell_type": "code",
   "execution_count": null,
   "metadata": {},
   "outputs": [],
   "source": []
  }
 ],
 "metadata": {
  "kernelspec": {
   "display_name": "Python [conda env:punctatools]",
   "language": "python",
   "name": "conda-env-punctatools-py"
  },
  "language_info": {
   "codemirror_mode": {
    "name": "ipython",
    "version": 3
   },
   "file_extension": ".py",
   "mimetype": "text/x-python",
   "name": "python",
   "nbconvert_exporter": "python",
   "pygments_lexer": "ipython3",
   "version": "3.9.0"
  }
 },
 "nbformat": 4,
 "nbformat_minor": 4
}
