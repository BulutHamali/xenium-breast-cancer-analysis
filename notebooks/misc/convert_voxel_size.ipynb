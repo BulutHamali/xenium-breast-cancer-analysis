{
 "cells": [
  {
   "cell_type": "markdown",
   "metadata": {},
   "source": [
    "# Convert voxel size of the input images\n",
    "\n",
    "## Requirements\n",
    "\n",
    "- A folder with images to convert\n",
    "\n",
    "<hr style=\"height:2px;\">\n",
    "\n",
    "## Config\n",
    "\n",
    "<hr style=\"height:2px;\">\n",
    "\n",
    "### The following code imports and declares functions used for the processing:"
   ]
  },
  {
   "cell_type": "code",
   "execution_count": 1,
   "metadata": {},
   "outputs": [],
   "source": [
    "#################################\n",
    "#  Don't modify the code below  #\n",
    "#################################\n",
    "\n",
    "import intake_io\n",
    "import os\n",
    "import numpy as np\n",
    "from tqdm import tqdm\n",
    "from am_utils.utils import walk_dir"
   ]
  },
  {
   "cell_type": "markdown",
   "metadata": {},
   "source": [
    "### Please provide data paths:\n",
    "\n",
    "`input_dir`: directory with images to be segmented\n",
    "\n",
    "`output_dir`: directory to save the segmentation results; ROI masks will be added as an extra channel to the input image and saved in this directory"
   ]
  },
  {
   "cell_type": "code",
   "execution_count": 2,
   "metadata": {
    "tags": [
     "parameters"
    ]
   },
   "outputs": [],
   "source": [
    "input_dir = \"../example_data/stacks\"\n",
    "output_dir = \"../test_output/converted\""
   ]
  },
  {
   "cell_type": "markdown",
   "metadata": {},
   "source": [
    "<hr style=\"height:2px;\">\n",
    "\n",
    "## Setup\n",
    "\n",
    "<hr style=\"height:2px;\">\n",
    "\n",
    "### The following code lists all image files in the input directory:"
   ]
  },
  {
   "cell_type": "code",
   "execution_count": 3,
   "metadata": {
    "scrolled": true
   },
   "outputs": [
    {
     "name": "stdout",
     "output_type": "stream",
     "text": [
      "\n",
      "2 images were found:\n",
      "0 ../example_data/stacks/sample1_position1.tif\n",
      "1 ../example_data/stacks/sample1_position2.tif\n"
     ]
    }
   ],
   "source": [
    "#################################\n",
    "#  Don't modify the code below  #\n",
    "#################################\n",
    "\n",
    "samples = walk_dir(input_dir)\n",
    "\n",
    "print(f'\\n{len(samples)} images were found:')\n",
    "for i in range(len(samples)):\n",
    "    print(i, samples[i])"
   ]
  },
  {
   "cell_type": "markdown",
   "metadata": {},
   "source": [
    "### The following code loads a random image"
   ]
  },
  {
   "cell_type": "code",
   "execution_count": 4,
   "metadata": {},
   "outputs": [
    {
     "name": "stdout",
     "output_type": "stream",
     "text": [
      "<xarray.Dataset>\n",
      "Dimensions:  (y: 326, x: 326, z: 5, c: 3)\n",
      "Coordinates:\n",
      "  * y        (y) float64 0.0 0.11 0.22 0.33 0.44 ... 35.42 35.53 35.64 35.75\n",
      "  * x        (x) float64 0.0 0.11 0.22 0.33 0.44 ... 35.42 35.53 35.64 35.75\n",
      "  * z        (z) float64 0.0 0.2 0.4 0.6 0.8\n",
      "Dimensions without coordinates: c\n",
      "Data variables:\n",
      "    image    (c, z, y, x) uint16 99 102 99 102 103 99 ... 101 102 96 100 104 103\n",
      "Attributes:\n",
      "    metadata:  {'spacing_units': {'z': 'µm', 'y': 'µm', 'x': 'µm'}} \n",
      "\n",
      "Number of channels: 3\n",
      "The following voxel size was detected:\n",
      "z: 0.2\n",
      "y: 0.11000000105937943\n",
      "x: 0.11000000105937943\n"
     ]
    }
   ],
   "source": [
    "#################################\n",
    "#  Don't modify the code below  #\n",
    "#################################\n",
    "sample_index = np.random.randint(len(samples))\n",
    "sample = samples[sample_index]\n",
    "dataset = intake_io.imload(sample)\n",
    "print(dataset, '\\n')\n",
    "if 'c' in dataset.dims:\n",
    "    nchannels = len(dataset['c'].data)\n",
    "    chnames = dataset['c'].data\n",
    "else:\n",
    "    nchannels = 1\n",
    "    chnames = [0]\n",
    "print(rf\"Number of channels: {nchannels}\")\n",
    "\n",
    "spacing = intake_io.get_spacing(dataset)\n",
    "\n",
    "print('The following voxel size was detected:')\n",
    "if 'z' in dataset.dims:\n",
    "    dims = ['z', 'y', 'x']\n",
    "else:\n",
    "    dims = ['y', 'x']\n",
    "for s, c in zip(spacing, dims):\n",
    "    print(rf\"{c}: {s}\")"
   ]
  },
  {
   "cell_type": "markdown",
   "metadata": {},
   "source": [
    "<hr style=\"height:0.5px;\">\n",
    "\n",
    "### Please specify the correct voxel size \n",
    "\n",
    "Specify the correct voxel size (pixel size and z-stepping) in microns if the above values are wrong.\n",
    "\n",
    "Keep `None`, if the value loaded from the metadata is correct."
   ]
  },
  {
   "cell_type": "code",
   "execution_count": 5,
   "metadata": {},
   "outputs": [],
   "source": [
    "z = 0.25\n",
    "y = None\n",
    "x = None"
   ]
  },
  {
   "cell_type": "markdown",
   "metadata": {
    "tags": []
   },
   "source": [
    "### The following code loads a random stack with correct voxel size"
   ]
  },
  {
   "cell_type": "code",
   "execution_count": 6,
   "metadata": {},
   "outputs": [
    {
     "name": "stdout",
     "output_type": "stream",
     "text": [
      "<xarray.Dataset>\n",
      "Dimensions:  (y: 326, x: 326, z: 5, c: 3)\n",
      "Coordinates:\n",
      "  * y        (y) float64 0.0 0.11 0.22 0.33 0.44 ... 35.42 35.53 35.64 35.75\n",
      "  * x        (x) float64 0.0 0.11 0.22 0.33 0.44 ... 35.42 35.53 35.64 35.75\n",
      "  * z        (z) float64 0.0 0.25 0.5 0.75 1.0\n",
      "Dimensions without coordinates: c\n",
      "Data variables:\n",
      "    image    (c, z, y, x) uint16 99 102 99 102 103 99 ... 101 102 96 100 104 103\n",
      "Attributes:\n",
      "    metadata:  {'spacing_units': {'y': 'µm', 'x': 'µm', 'z': 'µm'}}\n",
      "\n",
      "The new voxel size:\n",
      "z: 0.25\n",
      "y: 0.11000000105937943\n",
      "x: 0.11000000105937943\n"
     ]
    }
   ],
   "source": [
    "#################################\n",
    "#  Don't modify the code below  #\n",
    "#################################\n",
    "\n",
    "meta = intake_io.imload(sample, metadata_only=True)['metadata']\n",
    "for k, v in zip(['x', 'y', 'z'], [x, y, z]):\n",
    "    if k in meta['spacing'].keys() and v is not None:\n",
    "        meta['spacing'][k] = v\n",
    "\n",
    "if 'z' in dataset.dims:\n",
    "    spacing = [z, y, x]\n",
    "else:\n",
    "    spacing = [y, x]\n",
    "dataset = intake_io.imload(sample, metadata=meta)\n",
    "print(dataset)\n",
    "\n",
    "spacing = intake_io.get_spacing(dataset)\n",
    "\n",
    "print('\\nThe new voxel size:')\n",
    "if 'z' in dataset.dims:\n",
    "    dims = ['z', 'y', 'x']\n",
    "else:\n",
    "    dims = ['y', 'x']\n",
    "for s, c in zip(spacing, dims):\n",
    "    print(rf\"{c}: {s}\")"
   ]
  },
  {
   "cell_type": "markdown",
   "metadata": {},
   "source": [
    "<hr style=\"height:2px;\">\n",
    "\n",
    "## Processing\n",
    "\n",
    "<hr style=\"height:2px;\">\n",
    "\n",
    "### The following code converts all images in the input folder"
   ]
  },
  {
   "cell_type": "code",
   "execution_count": 7,
   "metadata": {},
   "outputs": [
    {
     "name": "stderr",
     "output_type": "stream",
     "text": [
      "100%|█████████████████████████████████████████████████████████████████████████████████████████████████████████████████████████████████████████| 2/2 [00:00<00:00, 109.93it/s]\n"
     ]
    }
   ],
   "source": [
    "for sample in tqdm(samples):\n",
    "    fn_out = sample.replace(input_dir.rstrip('/'), output_dir.rstrip('/'))\n",
    "    dataset = intake_io.imload(sample, metadata=meta)\n",
    "    os.makedirs(os.path.dirname(fn_out), exist_ok=True)\n",
    "    try:\n",
    "        intake_io.imsave(dataset, fn_out)\n",
    "    except UnicodeDecodeError:\n",
    "        dataset['image'].metadata['spacing_units'] = {}\n",
    "        intake_io.imsave(dataset, fn_out)"
   ]
  },
  {
   "cell_type": "code",
   "execution_count": null,
   "metadata": {},
   "outputs": [],
   "source": []
  }
 ],
 "metadata": {
  "kernelspec": {
   "display_name": "Python [conda env:punctatools]",
   "language": "python",
   "name": "conda-env-punctatools-py"
  },
  "language_info": {
   "codemirror_mode": {
    "name": "ipython",
    "version": 3
   },
   "file_extension": ".py",
   "mimetype": "text/x-python",
   "name": "python",
   "nbconvert_exporter": "python",
   "pygments_lexer": "ipython3",
   "version": "3.9.0"
  }
 },
 "nbformat": 4,
 "nbformat_minor": 4
}
