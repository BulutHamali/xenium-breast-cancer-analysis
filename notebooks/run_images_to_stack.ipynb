{
 "cells": [
  {
   "cell_type": "markdown",
   "metadata": {},
   "source": [
    "# Combine individual z-layers and channels to multichannel z-stacks\n",
    "\n",
    "Individual images for z-layers and channels are combined to one stack per sample.\n",
    "\n",
    "## Requirements\n",
    "- A folder with images that should be converted (see [setup_images_to_stack.ipynb](setup_images_to_stack.ipynb)\n",
    "for details)\n",
    "- A json parameter file specified using [setup_images_to_stack.ipynb](setup_images_to_stack.ipynb)\n",
    "\n",
    "<hr style=\"height:2px;\">\n",
    "\n",
    "## Config\n",
    "\n",
    "<hr style=\"height:2px;\">\n",
    "\n",
    "### The following code imports and declares functions used for the processing:"
   ]
  },
  {
   "cell_type": "code",
   "execution_count": 1,
   "metadata": {},
   "outputs": [
    {
     "name": "stdout",
     "output_type": "stream",
     "text": [
      "2022-04-06 16:11:08,642 [INFO] WRITING LOG OUTPUT TO /home/amedyukh/.cellpose/run.log\n"
     ]
    }
   ],
   "source": [
    "#################################\n",
    "#  Don't modify the code below  #\n",
    "#################################\n",
    "\n",
    "from punctatools.lib.convert import images_to_stacks\n",
    "from punctatools.lib.utils import load_parameters"
   ]
  },
  {
   "cell_type": "markdown",
   "metadata": {
    "tags": []
   },
   "source": [
    "## Specify the parameters for conversion\n",
    "\n",
    "\n",
    "<hr style=\"height:0.5px;\">\n",
    "\n",
    "#### Option 1 (preferred)\n",
    "\n",
    "Specify the parameter file to read the parameters (`parameter_file`)\n",
    "\n",
    "To set up the parameters and generate the parameter file, run the notebook [setup_images_to_stack.ipynb](setup_images_to_stack.ipynb)\n",
    "\n",
    "<hr style=\"height:0.5px;\">\n",
    "\n",
    "#### Option 2\n",
    "\n",
    "Specify the parameter values:\n",
    "\n",
    "`input_dir`: folder with images of cells to be segmented\n",
    "\n",
    "`output_dir`: folder to save results\n",
    "\n",
    "`channel_code`: sequence of character that precedes the channel numbering, including the separator (e.g. \"_\") that precedes the channel code.\n",
    "\n",
    "`z_position_code`: sequence of character that precedes the z-position numbering, including the separator (e.g. \"_\") that precedes the channel code.\n",
    "\n",
    "`spacing`: voxel size along z, y, and x dimensions. \n",
    "\n",
    "`n_jobs`: number of processes to run in parallel. Set according to your workstation resources. Decrease if the processing runs out of memory. (Default is 8)\n",
    "\n",
    "\n"
   ]
  },
  {
   "cell_type": "code",
   "execution_count": 2,
   "metadata": {
    "tags": [
     "parameters"
    ]
   },
   "outputs": [],
   "source": [
    "parameter_file = 'parameters.json'\n",
    "\n",
    "# input_dir = \"../example_data/slices\"\n",
    "# output_dir = \"../test_output/stacks\"\n",
    "\n",
    "# channel_code = \"_C\"\n",
    "# z_position_code = \"_Z\"\n",
    "\n",
    "# spacing = [0.2, None, None]\n",
    "# n_jobs=8"
   ]
  },
  {
   "cell_type": "markdown",
   "metadata": {},
   "source": [
    "<hr style=\"height:2px;\">\n",
    "\n",
    "## Processing\n",
    "\n",
    "<hr style=\"height:2px;\">\n",
    "\n",
    "\n",
    "### The following code loads the parameters "
   ]
  },
  {
   "cell_type": "code",
   "execution_count": 3,
   "metadata": {
    "scrolled": true
   },
   "outputs": [
    {
     "data": {
      "text/plain": [
       "{'channel_code': '_C',\n",
       " 'z_position_code': '_Z',\n",
       " 'spacing': [0.2, 0.11000000110000001, 0.11000000110000001],\n",
       " 'n_jobs': 8,\n",
       " 'input_dir': '/research/sharedresources/cbi/common/Anna/codes/punctatools/example_data/slices',\n",
       " 'output_dir': '/research/sharedresources/cbi/common/Anna/codes/punctatools/test_output/stacks'}"
      ]
     },
     "execution_count": 3,
     "metadata": {},
     "output_type": "execute_result"
    }
   ],
   "source": [
    "#################################\n",
    "#  Don't modify the code below  #\n",
    "#################################\n",
    "\n",
    "param_keys = ['channel_code', 'z_position_code', 'spacing', 'n_jobs']\n",
    "param_matches = dict(input_dir='raw_dir', output_dir='converted_data_dir')\n",
    "kwargs = load_parameters(vars(), param_keys, param_matches)\n",
    "\n",
    "kwargs"
   ]
  },
  {
   "cell_type": "markdown",
   "metadata": {},
   "source": [
    "### The following code converts all images in the input folder"
   ]
  },
  {
   "cell_type": "code",
   "execution_count": 4,
   "metadata": {},
   "outputs": [
    {
     "name": "stdout",
     "output_type": "stream",
     "text": [
      "Run Convert images to stacks\n"
     ]
    },
    {
     "name": "stderr",
     "output_type": "stream",
     "text": [
      "100%|██████████████████████████████████████████████████████████████████████████████████████████████████████████████████████████████████████████████████████████████████████████| 2/2 [00:00<00:00, 118.20it/s]"
     ]
    },
    {
     "name": "stdout",
     "output_type": "stream",
     "text": [
      "Convert images to stacks done\n"
     ]
    },
    {
     "name": "stderr",
     "output_type": "stream",
     "text": [
      "\n"
     ]
    }
   ],
   "source": [
    "#################################\n",
    "#  Don't modify the code below  #\n",
    "#################################\n",
    "\n",
    "images_to_stacks(parallel=True, process_name='Convert images to stacks', **kwargs)"
   ]
  },
  {
   "cell_type": "code",
   "execution_count": null,
   "metadata": {},
   "outputs": [],
   "source": []
  }
 ],
 "metadata": {
  "kernelspec": {
   "display_name": "Python [conda env:punctatools]",
   "language": "python",
   "name": "conda-env-punctatools-py"
  },
  "language_info": {
   "codemirror_mode": {
    "name": "ipython",
    "version": 3
   },
   "file_extension": ".py",
   "mimetype": "text/x-python",
   "name": "python",
   "nbconvert_exporter": "python",
   "pygments_lexer": "ipython3",
   "version": "3.9.0"
  }
 },
 "nbformat": 4,
 "nbformat_minor": 4
}
