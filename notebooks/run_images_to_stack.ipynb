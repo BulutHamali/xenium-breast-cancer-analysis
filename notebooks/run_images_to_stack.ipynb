{
 "cells": [
  {
   "cell_type": "markdown",
   "metadata": {},
   "source": [
    "# Combine individual z-layers and channels to multichannel z-stacks\n",
    "\n",
    "Individual images for z-layers and channels are combined to one stack per sample.\n",
    "\n",
    "## Requirements\n",
    "- A folder with images that should be converted (see [setup_images_to_stack.ipynb](setup_images_to_stack.ipynb)\n",
    "for details)\n",
    "- A json parameter file specified using [setup_images_to_stack.ipynb](setup_images_to_stack.ipynb)\n",
    "\n",
    "<hr style=\"height:2px;\">\n",
    "\n",
    "## Config\n",
    "\n",
    "<hr style=\"height:2px;\">\n",
    "\n",
    "### The following code imports and declares functions used for the processing:"
   ]
  },
  {
   "cell_type": "code",
   "execution_count": 1,
   "metadata": {},
   "outputs": [],
   "source": [
    "#################################\n",
    "#  Don't modify the code below  #\n",
    "#################################\n",
    "\n",
    "import json\n",
    "from punctatools.lib.convert import images_to_stacks"
   ]
  },
  {
   "cell_type": "markdown",
   "metadata": {},
   "source": [
    "## Specify the parameters for conversion\n",
    "\n",
    "`parameter_file`: json parameter file generated using [setup_images_to_stack.ipynb](setup_images_to_stack.ipynb). \n",
    "\n",
    "`n_jobs`: number of processes to run in parallel. Set according to your workstation resources. Decrease if the processing runs out of memory. (Default is 8)\n",
    "\n",
    "`input_dir`: folder with images to be converted; set to `None` to load this value from the parameter file\n",
    "\n",
    "`output_dir`: folder to save results; set to `None` to load this value from the parameter file\n"
   ]
  },
  {
   "cell_type": "code",
   "execution_count": 2,
   "metadata": {
    "tags": [
     "parameters"
    ]
   },
   "outputs": [],
   "source": [
    "parameter_file = '../example_data/parameters/parameters_conversion.json'\n",
    "n_jobs=8\n",
    "\n",
    "input_dir = None\n",
    "output_dir = None"
   ]
  },
  {
   "cell_type": "markdown",
   "metadata": {},
   "source": [
    "\n",
    "### The following code loads the parameters "
   ]
  },
  {
   "cell_type": "code",
   "execution_count": 3,
   "metadata": {
    "scrolled": true
   },
   "outputs": [
    {
     "data": {
      "text/plain": [
       "{'input_dir': '../example_data/slices',\n",
       " 'output_dir': '../test_output/stacks',\n",
       " 'spacing': [0.2, 0.11000000110000001, 0.11000000110000001],\n",
       " 'channel_code': '_C',\n",
       " 'z_position_code': '_Z',\n",
       " 'n_jobs': 8}"
      ]
     },
     "execution_count": 3,
     "metadata": {},
     "output_type": "execute_result"
    }
   ],
   "source": [
    "#################################\n",
    "#  Don't modify the code below  #\n",
    "#################################\n",
    "\n",
    "with open(parameter_file) as f:\n",
    "    params = json.load(f)\n",
    "\n",
    "params['n_jobs'] = n_jobs\n",
    "if input_dir is not None:\n",
    "    params['input_dir'] = input_dir.rstrip('/')\n",
    "if output_dir is not None:\n",
    "    params['output_dir'] = output_dir.rstrip('/')\n",
    "\n",
    "params"
   ]
  },
  {
   "cell_type": "markdown",
   "metadata": {},
   "source": [
    "<hr style=\"height:2px;\">\n",
    "\n",
    "## Processing\n",
    "\n",
    "<hr style=\"height:2px;\">\n",
    "\n",
    "### The following code converts all images in the input folder"
   ]
  },
  {
   "cell_type": "code",
   "execution_count": 4,
   "metadata": {},
   "outputs": [
    {
     "name": "stdout",
     "output_type": "stream",
     "text": [
      "Run Convert images to stacks\n"
     ]
    },
    {
     "name": "stderr",
     "output_type": "stream",
     "text": [
      "100%|█████████████████████████████████████████████████████████████████████████████████████████████████████████████████████████████████████████████████| 2/2 [00:00<00:00, 147.39it/s]"
     ]
    },
    {
     "name": "stdout",
     "output_type": "stream",
     "text": [
      "Convert images to stacks done\n"
     ]
    },
    {
     "name": "stderr",
     "output_type": "stream",
     "text": [
      "\n"
     ]
    }
   ],
   "source": [
    "#################################\n",
    "#  Don't modify the code below  #\n",
    "#################################\n",
    "\n",
    "images_to_stacks(parallel=True, process_name='Convert images to stacks', **params)"
   ]
  },
  {
   "cell_type": "code",
   "execution_count": null,
   "metadata": {},
   "outputs": [],
   "source": []
  }
 ],
 "metadata": {
  "kernelspec": {
   "display_name": "Python [conda env:punctatools]",
   "language": "python",
   "name": "conda-env-punctatools-py"
  },
  "language_info": {
   "codemirror_mode": {
    "name": "ipython",
    "version": 3
   },
   "file_extension": ".py",
   "mimetype": "text/x-python",
   "name": "python",
   "nbconvert_exporter": "python",
   "pygments_lexer": "ipython3",
   "version": "3.9.0"
  }
 },
 "nbformat": 4,
 "nbformat_minor": 4
}
