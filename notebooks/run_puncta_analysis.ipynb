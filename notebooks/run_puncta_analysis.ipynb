{
 "cells": [
  {
   "cell_type": "markdown",
   "metadata": {
    "tags": []
   },
   "source": [
    "# Segment and quantify puncta\n",
    "\n",
    "Segment puncta and analyze their properties. Calculate puncta summaries per ROI (cell or nucleus) if the ROI segmentation is available.\n",
    "\n",
    "## Requirements\n",
    "\n",
    "- A folder with images to analyze (see [setup_puncta_analysis.ipynb](setup_puncta_analysis.ipynb) for details)\n",
    "- A json parameter file specified using [setup_puncta_analysis.ipynb](setup_puncta_analysis.ipynb)\n",
    "\n",
    "\n",
    "<hr style=\"height:2px;\">\n",
    "\n",
    "## Config\n",
    "\n",
    "<hr style=\"height:2px;\">\n",
    "\n",
    "### The following code imports and declares functions used for the processing:"
   ]
  },
  {
   "cell_type": "code",
   "execution_count": 1,
   "metadata": {},
   "outputs": [
    {
     "name": "stdout",
     "output_type": "stream",
     "text": [
      "2022-03-04 11:38:27,977 [INFO] WRITING LOG OUTPUT TO /home/amedyukh/.cellpose/run.log\n"
     ]
    }
   ],
   "source": [
    "#################################\n",
    "#  Don't modify the code below  #\n",
    "#################################\n",
    "\n",
    "import json\n",
    "import os\n",
    "from punctatools.lib.segment import segment_puncta_batch\n",
    "from punctatools.lib.quantify import quantify_batch\n",
    "from punctatools.lib.utils import load_parameters, save_parameters"
   ]
  },
  {
   "cell_type": "markdown",
   "metadata": {},
   "source": [
    "### Specify the parameters for segmentation\n",
    "\n",
    "<hr style=\"height:0.5px;\">\n",
    "\n",
    "#### Option 1 (preferred)\n",
    "\n",
    "Specify the parameter file to read the parameters (`parameter_file`)\n",
    "\n",
    "To set up the parameters and generate the parameter file, run the notebook [setup_puncta_analysis.ipynb](setup_puncta_analysis.ipynb)\n",
    "\n",
    "<hr style=\"height:0.5px;\">\n",
    "\n",
    "#### Option 2\n",
    "\n",
    "Specify the parameter values (see [setup_puncta_analysis.ipynb](setup_puncta_analysis.ipynb) for more details).\n",
    "\n",
    "`input_dir`: directory with images to analyze\n",
    "\n",
    "`output_dir`: directory to save the result of the puncta analysis\n",
    "\n",
    "`roi_segmentation`: Set to `True` if the ROI segmentation was done and the last channel of the images in the `input_dir` contains the segmentation mask\n",
    "\n",
    "`puncta_channels`: list of channel indices, starting form 0, that should be used to segment puncta\n",
    "\n",
    "`roi_segmentation`: Set to `True` if the ROI segmentation was done and the last channel of the images in the `input_dir` contains the segmentation mask\n",
    "\n",
    "`minsize_um`: miminum target puncta size (microns); default is 0.2\n",
    "\n",
    "`maxsize_um`: maximum target puncta size (microns); default is 2\n",
    "\n",
    "`num_sigma`: number of sigma values for the LoG detector; default is 5\n",
    "\n",
    "`threshold_detection`: threshold used by the LoG detector to exclude low intensity centers. Reduce this to detect blobs with lower intensities. Should be close to 0 and can be both positive and negative.\n",
    "\n",
    "`overlap`: a value between 0 and 1; parameter used by the LoG detector to remove the smaller one of two overlapping blobs\n",
    "\n",
    "`threshold_background`: threshold used to remove low intensity puncta centers, provided relative to the ROI background value.\n",
    "\n",
    "`background_percentile`: Percentile (between 0 and 100) of image intensity inside ROI used to calculate the background value.\n",
    "\n",
    "`global_background`: If `True`, the background value is calculated globally as the `global_background_percentile` of all ROI.\n",
    "\n",
    "`global_background_percentile`: Percentile (between 0 and 100) of ROI background values used to calculate the global background value. \n",
    "\n",
    "`threshold_segmentation`: Threshold for puncta segmentation. The way the threshold is applied is determined by `segmentation_mode`. For mode 0, choose values in the order of 0.001; for mode 1, choose values in the order of 50; for mode 2, choose values in the order of 3. Reduce to detect more/larger puncta, increase to detect fewer/smaller puncta\n",
    "\n",
    "`segmentation_mode`: 0, 1, or 2. Determines the mode how `threshold_segmentation` is applied; 0: apply absolute threshold in LoG space; 1: apply threshold relative to background in LoG space; 2: apply threshold relative to the background in image intensity space.\n",
    "\n",
    "`remove_out_of_roi`: If True, puncta (parts) that extend beyond cells/nuclei will be removed. \n",
    "\n",
    "`maxrad_um`: maximum puncta radius in microns; used to remove large puncta. \n",
    "\n",
    "`n_jobs`: number of processes to run in parallel. \n",
    "\n",
    "`channel_names`: list of names for the channels in the original image\n",
    "\n",
    "`puncta_segm_dir`: subdirectory to store segmented puncta masks (added as extra channel(s) to the input data)\n",
    "\n",
    "`puncta_quant_dir`: subdirectory to store measurements for individual puncta\n",
    "\n",
    "`roi_quant_dir`: subdirectory to store measurements for individual ROI (nuclei, cells)"
   ]
  },
  {
   "cell_type": "code",
   "execution_count": 2,
   "metadata": {
    "tags": [
     "parameters"
    ]
   },
   "outputs": [],
   "source": [
    "parameter_file = 'parameters.json'\n",
    "\n",
    "# input_dir = \"../example_data/stacks\"\n",
    "# roi_segmentation = False\n",
    "# output_dir = \"../test_output/puncta_analysis\"\n",
    "\n",
    "# puncta_channels = [1, 2]\n",
    "\n",
    "# minsize_um = 0.2  \n",
    "# maxsize_um = 2  \n",
    "# num_sigma = 5\n",
    "# threshold_detection = [0.001, 0.0001] \n",
    "# overlap = 1\n",
    "\n",
    "# threshold_background = [3, 1.5]\n",
    "# background_percentile = 50\n",
    "# global_background = False\n",
    "# global_background_percentile = 95\n",
    "\n",
    "# threshold_segmentation = [0.001, 0.0005]\n",
    "# segmentation_mode = 0\n",
    "\n",
    "# remove_out_of_roi = False\n",
    "# maxrad_um = None\n",
    "\n",
    "# n_jobs=8\n",
    "\n",
    "# channel_names = ['ch0', 'ch1', 'ch3']\n",
    "# puncta_segm_dir = 'puncta_segm'\n",
    "# puncta_quant_dir = 'puncta_quants'\n",
    "# roi_quant_dir = 'cell_quants'"
   ]
  },
  {
   "cell_type": "markdown",
   "metadata": {},
   "source": [
    "<hr style=\"height:2px;\">\n",
    "\n",
    "## Processing\n",
    "\n",
    "<hr style=\"height:2px;\">\n",
    "\n",
    "\n",
    "### The following code loads the parameters "
   ]
  },
  {
   "cell_type": "code",
   "execution_count": 3,
   "metadata": {
    "tags": []
   },
   "outputs": [
    {
     "data": {
      "text/plain": [
       "{'puncta_segm_dir': 'puncta_segm',\n",
       " 'puncta_quant_dir': 'puncta_quants',\n",
       " 'roi_quant_dir': 'cell_quants',\n",
       " 'puncta_channels': [1, 2],\n",
       " 'roi_segmentation': True,\n",
       " 'minsize_um': 0.2,\n",
       " 'maxsize_um': 2,\n",
       " 'num_sigma': 5,\n",
       " 'overlap': 1,\n",
       " 'threshold_detection': [0.001, 0.0001],\n",
       " 'threshold_background': [2, 1.5],\n",
       " 'global_background': False,\n",
       " 'global_background_percentile': 95,\n",
       " 'background_percentile': 50,\n",
       " 'threshold_segmentation': [80, 50],\n",
       " 'segmentation_mode': 1,\n",
       " 'remove_out_of_roi': False,\n",
       " 'maxrad_um': None,\n",
       " 'n_jobs': 8,\n",
       " 'channel_names': ['ch0', 'ch1', 'ch3'],\n",
       " 'output_dir': '/research/sharedresources/cbi/common/Anna/codes/punctatools/test_output/puncta_analysis',\n",
       " 'input_dir': '/research/sharedresources/cbi/common/Anna/codes/punctatools/test_output/roi'}"
      ]
     },
     "execution_count": 3,
     "metadata": {},
     "output_type": "execute_result"
    }
   ],
   "source": [
    "#################################\n",
    "#  Don't modify the code below  #\n",
    "#################################\n",
    "\n",
    "param_keys = [\n",
    "    'puncta_segm_dir',\n",
    "    'puncta_quant_dir',\n",
    "    'roi_quant_dir',\n",
    "    'puncta_channels',\n",
    "    'roi_segmentation',\n",
    "    'minsize_um',\n",
    "    'maxsize_um',\n",
    "    'num_sigma',\n",
    "    'overlap', \n",
    "    'threshold_detection', \n",
    "    'threshold_background', \n",
    "    'global_background', \n",
    "    'global_background_percentile', \n",
    "    'background_percentile', \n",
    "    'threshold_segmentation',\n",
    "    'segmentation_mode',\n",
    "    'remove_out_of_roi', \n",
    "    'maxrad_um', \n",
    "    'n_jobs',\n",
    "    'channel_names' \n",
    "]\n",
    "param_matches = dict(output_dir='puncta_analysis_dir')\n",
    "kwargs = load_parameters(vars(), param_keys, param_matches)\n",
    "if kwargs['roi_segmentation']:\n",
    "    param_matches['input_dir'] = 'roi_segmentation_dir'\n",
    "else:\n",
    "    param_matches['input_dir'] = 'converted_data_dir'\n",
    "kwargs = load_parameters(vars(), param_keys, param_matches)\n",
    "os.makedirs(kwargs['output_dir'], exist_ok=True)\n",
    "params = save_parameters(kwargs, \n",
    "                         os.path.join(kwargs['output_dir'], parameter_file.split('/')[-1]))\n",
    "\n",
    "kwargs"
   ]
  },
  {
   "cell_type": "markdown",
   "metadata": {},
   "source": [
    "### The following code segments puncta in all image in the input folder"
   ]
  },
  {
   "cell_type": "code",
   "execution_count": 4,
   "metadata": {},
   "outputs": [
    {
     "name": "stdout",
     "output_type": "stream",
     "text": [
      "Run Segment puncta\n"
     ]
    },
    {
     "name": "stderr",
     "output_type": "stream",
     "text": [
      "100%|██████████████████████████████████████████████████████████████████████████████████████████████████████████████████████████████████| 2/2 [00:00<00:00, 129.98it/s]\n"
     ]
    },
    {
     "name": "stdout",
     "output_type": "stream",
     "text": [
      "Segment puncta done\n"
     ]
    }
   ],
   "source": [
    "#################################\n",
    "#  Don't modify the code below  #\n",
    "#################################\n",
    "\n",
    "channel_names = kwargs.pop('channel_names')\n",
    "puncta_segm_dir = kwargs.pop('puncta_segm_dir')\n",
    "roi_quant_dir = kwargs.pop('roi_quant_dir')\n",
    "puncta_quant_dir = kwargs.pop('puncta_quant_dir')\n",
    "\n",
    "segm_kwargs = kwargs.copy()\n",
    "segm_kwargs['output_dir'] = os.path.join(segm_kwargs['output_dir'], puncta_segm_dir)\n",
    "segment_puncta_batch(parallel=True, process_name='Segment puncta', **segm_kwargs)"
   ]
  },
  {
   "cell_type": "markdown",
   "metadata": {},
   "source": [
    "### The following code quantifies all images"
   ]
  },
  {
   "cell_type": "code",
   "execution_count": 5,
   "metadata": {},
   "outputs": [
    {
     "name": "stdout",
     "output_type": "stream",
     "text": [
      "Run Quantify puncta\n"
     ]
    },
    {
     "name": "stderr",
     "output_type": "stream",
     "text": [
      "100%|██████████████████████████████████████████████████████████████████████████████████████████████████████████████████████████████████| 2/2 [00:00<00:00, 156.24it/s]\n",
      "/research/sharedresources/cbi/public/conda_envs/punctatools/lib/python3.9/site-packages/punctatools/lib/quantify.py:124: RuntimeWarning: invalid value encountered in long_scalars\n",
      "  coloc = np.sum((overlap[cur_roi_pix] > 0) * 1) / np.sum(union[cur_roi_pix])\n",
      "/research/sharedresources/cbi/public/conda_envs/punctatools/lib/python3.9/site-packages/punctatools/lib/quantify.py:124: RuntimeWarning: invalid value encountered in long_scalars\n",
      "  coloc = np.sum((overlap[cur_roi_pix] > 0) * 1) / np.sum(union[cur_roi_pix])\n",
      "/research/sharedresources/cbi/public/conda_envs/punctatools/lib/python3.9/site-packages/scipy/stats/stats.py:4023: PearsonRConstantInputWarning: An input array is constant; the correlation coefficient is not defined.\n",
      "  warnings.warn(PearsonRConstantInputWarning())\n",
      "/research/sharedresources/cbi/public/conda_envs/punctatools/lib/python3.9/site-packages/scipy/stats/stats.py:4023: PearsonRConstantInputWarning: An input array is constant; the correlation coefficient is not defined.\n",
      "  warnings.warn(PearsonRConstantInputWarning())\n"
     ]
    },
    {
     "name": "stdout",
     "output_type": "stream",
     "text": [
      "Quantify puncta done\n"
     ]
    },
    {
     "name": "stderr",
     "output_type": "stream",
     "text": [
      "100%|██████████████████████████████████████████████████████████████████████████████████████████████████████████████████████████████████| 2/2 [00:00<00:00, 130.78it/s]\n",
      "100%|██████████████████████████████████████████████████████████████████████████████████████████████████████████████████████████████████| 2/2 [00:00<00:00, 288.05it/s]\n"
     ]
    }
   ],
   "source": [
    "#################################\n",
    "#  Don't modify the code below  #\n",
    "#################################\n",
    "\n",
    "quantify_batch(input_dir=segm_kwargs['output_dir'],\n",
    "               output_dir_puncta=os.path.join(kwargs['output_dir'], puncta_quant_dir),\n",
    "               output_dir_roi=os.path.join(kwargs['output_dir'], roi_quant_dir),\n",
    "               parallel=True, n_jobs=kwargs['n_jobs'],\n",
    "               channel_names=channel_names,\n",
    "               puncta_channels=kwargs['puncta_channels'],\n",
    "               process_name='Quantify puncta')"
   ]
  },
  {
   "cell_type": "code",
   "execution_count": null,
   "metadata": {},
   "outputs": [],
   "source": []
  }
 ],
 "metadata": {
  "kernelspec": {
   "display_name": "Python [conda env:punctatools]",
   "language": "python",
   "name": "conda-env-punctatools-py"
  },
  "language_info": {
   "codemirror_mode": {
    "name": "ipython",
    "version": 3
   },
   "file_extension": ".py",
   "mimetype": "text/x-python",
   "name": "python",
   "nbconvert_exporter": "python",
   "pygments_lexer": "ipython3",
   "version": "3.9.0"
  }
 },
 "nbformat": 4,
 "nbformat_minor": 4
}
