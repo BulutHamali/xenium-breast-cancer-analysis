{
 "cells": [
  {
   "cell_type": "markdown",
   "metadata": {
    "tags": []
   },
   "source": [
    "# Segment and quantify puncta\n",
    "\n",
    "Segment puncta and analyze their properties. Calculate puncta summaries per ROI (cell or nucleus) if the ROI segmentation is available.\n",
    "\n",
    "\n",
    "## Documentation\n",
    "\n",
    "[Details of the puncta segmentation procedure](../docs/puncta_segmentation.md)\n",
    "\n",
    "[Table summarizing all parameters that are used in this notebook](../docs/parameters.md#list-of-parameters-for-puncta-segmentation-and-analysis)\n",
    "\n",
    "\n",
    "## Requirements\n",
    "\n",
    "- A folder with images to analyze \n",
    "- A json parameter file specified using [setup_puncta_analysis.ipynb](setup_puncta_analysis.ipynb)\n",
    "\n",
    "\n",
    "<hr style=\"height:2px;\">\n",
    "\n",
    "## Config\n",
    "\n",
    "<hr style=\"height:2px;\">\n",
    "\n",
    "### The following code imports and declares functions used for the processing:"
   ]
  },
  {
   "cell_type": "code",
   "execution_count": 1,
   "metadata": {},
   "outputs": [
    {
     "name": "stdout",
     "output_type": "stream",
     "text": [
      "2022-06-16 13:02:35,752 [INFO] WRITING LOG OUTPUT TO /home/amedyukh/.cellpose/run.log\n"
     ]
    }
   ],
   "source": [
    "#################################\n",
    "#  Don't modify the code below  #\n",
    "#################################\n",
    "\n",
    "import json\n",
    "import os\n",
    "from punctatools.lib.segment import segment_puncta_batch\n",
    "from punctatools.lib.quantify import quantify_batch"
   ]
  },
  {
   "cell_type": "markdown",
   "metadata": {},
   "source": [
    "### Specify the parameters for segmentation\n",
    "\n",
    "<hr style=\"height:0.5px;\">\n",
    "\n",
    "`parameter_file`: json parameter file generated using [setup_puncta_analysis.ipynb](setup_puncta_analysis.ipynb).\n",
    "\n",
    "`n_jobs`: number of processes to run in parallel. Set according to your workstation resources. Decrease if the processing runs out of memory. (Default is 8)\n",
    "\n",
    "`input_dir`: folder with images to analyze; set to `None` to load this value from the parameter file\n",
    "\n",
    "`output_dir`: folder to save results; set to `None` to load this value from the parameter file\n"
   ]
  },
  {
   "cell_type": "code",
   "execution_count": 2,
   "metadata": {
    "tags": [
     "parameters"
    ]
   },
   "outputs": [],
   "source": [
    "parameter_file = '../example_data/parameters/parameters_puncta.json'\n",
    "n_jobs = 8\n",
    "\n",
    "input_dir = None\n",
    "output_dir = None"
   ]
  },
  {
   "cell_type": "markdown",
   "metadata": {},
   "source": [
    "<hr style=\"height:2px;\">\n",
    "\n",
    "## Processing\n",
    "\n",
    "<hr style=\"height:2px;\">\n",
    "\n",
    "\n",
    "### The following code loads the parameters "
   ]
  },
  {
   "cell_type": "code",
   "execution_count": 3,
   "metadata": {
    "tags": []
   },
   "outputs": [
    {
     "data": {
      "text/plain": [
       "{'input_dir': '../example_data/stacks',\n",
       " 'output_dir': '../test_output/puncta_analysis',\n",
       " 'roi_segmentation': False,\n",
       " 'puncta_segm_dir': 'puncta_segm',\n",
       " 'puncta_quant_dir': 'puncta_quants',\n",
       " 'roi_quant_dir': 'cell_quants',\n",
       " 'puncta_channels': [1, 2],\n",
       " 'channel_names': ['ch0', 'ch1', 'ch3'],\n",
       " 'minsize_um': 0.2,\n",
       " 'maxsize_um': 2,\n",
       " 'num_sigma': 5,\n",
       " 'overlap': 1,\n",
       " 'threshold_detection': [0.001, 0.0001],\n",
       " 'threshold_background': [2, 1.5],\n",
       " 'global_background': False,\n",
       " 'global_background_percentile': 95,\n",
       " 'background_percentile': 50,\n",
       " 'threshold_segmentation': [0.001, 0.0003],\n",
       " 'segmentation_mode': 0,\n",
       " 'remove_out_of_roi': False,\n",
       " 'maxrad_um': None,\n",
       " 'n_jobs': 8}"
      ]
     },
     "execution_count": 3,
     "metadata": {},
     "output_type": "execute_result"
    }
   ],
   "source": [
    "#################################\n",
    "#  Don't modify the code below  #\n",
    "#################################\n",
    "\n",
    "with open(parameter_file) as f:\n",
    "    params = json.load(f)\n",
    "\n",
    "params['n_jobs'] = n_jobs\n",
    "if input_dir is not None:\n",
    "    params['input_dir'] = input_dir.rstrip('/')\n",
    "if output_dir is not None:\n",
    "    params['output_dir'] = output_dir.rstrip('/')\n",
    "    \n",
    "os.makedirs(params['output_dir'], exist_ok=True)\n",
    "\n",
    "with open(os.path.join(params['output_dir'], parameter_file.split('/')[-1]), 'w') as f:\n",
    "    json.dump(params, f, indent=4)\n",
    "    \n",
    "params"
   ]
  },
  {
   "cell_type": "markdown",
   "metadata": {},
   "source": [
    "### The following code segments puncta in all image in the input folder"
   ]
  },
  {
   "cell_type": "code",
   "execution_count": 4,
   "metadata": {},
   "outputs": [
    {
     "name": "stdout",
     "output_type": "stream",
     "text": [
      "Run Segment puncta\n"
     ]
    },
    {
     "name": "stderr",
     "output_type": "stream",
     "text": [
      "100%|██████████████████████████████████████████████████████████████████████████████████████████████████████████████████████████████████████████████████| 2/2 [00:00<00:00, 85.79it/s]\n"
     ]
    },
    {
     "name": "stdout",
     "output_type": "stream",
     "text": [
      "Segment puncta done\n"
     ]
    }
   ],
   "source": [
    "#################################\n",
    "#  Don't modify the code below  #\n",
    "#################################\n",
    "\n",
    "channel_names = params.pop('channel_names')\n",
    "puncta_segm_dir = params.pop('puncta_segm_dir')\n",
    "roi_quant_dir = params.pop('roi_quant_dir')\n",
    "puncta_quant_dir = params.pop('puncta_quant_dir')\n",
    "\n",
    "segm_kwargs = params.copy()\n",
    "segm_kwargs['output_dir'] = os.path.join(segm_kwargs['output_dir'], puncta_segm_dir)\n",
    "segment_puncta_batch(parallel=True, process_name='Segment puncta', **segm_kwargs)"
   ]
  },
  {
   "cell_type": "markdown",
   "metadata": {},
   "source": [
    "### The following code quantifies all images\n",
    "\n",
    "This will generate quantification for [individual puncta](../docs/outputs.md#measurements-for-individual-puncta) and [individual ROI](../docs/outputs.md#measurements-for-individual-roi)."
   ]
  },
  {
   "cell_type": "code",
   "execution_count": 5,
   "metadata": {},
   "outputs": [
    {
     "name": "stdout",
     "output_type": "stream",
     "text": [
      "Run Quantify puncta\n"
     ]
    },
    {
     "name": "stderr",
     "output_type": "stream",
     "text": [
      "100%|██████████████████████████████████████████████████████████████████████████████████████████████████████████████████████████████████████████████████| 2/2 [00:00<00:00, 97.32it/s]\n",
      "/research/sharedresources/cbi/public/conda_envs/punctatools/lib/python3.9/site-packages/scipy/stats/stats.py:4023: PearsonRConstantInputWarning: An input array is constant; the correlation coefficient is not defined.\n",
      "  warnings.warn(PearsonRConstantInputWarning())\n"
     ]
    },
    {
     "name": "stdout",
     "output_type": "stream",
     "text": [
      "Quantify puncta done\n"
     ]
    },
    {
     "name": "stderr",
     "output_type": "stream",
     "text": [
      "100%|██████████████████████████████████████████████████████████████████████████████████████████████████████████████████████████████████████████████████| 2/2 [00:00<00:00, 70.67it/s]\n",
      "100%|█████████████████████████████████████████████████████████████████████████████████████████████████████████████████████████████████████████████████| 2/2 [00:00<00:00, 242.28it/s]\n"
     ]
    }
   ],
   "source": [
    "#################################\n",
    "#  Don't modify the code below  #\n",
    "#################################\n",
    "\n",
    "quantify_batch(input_dir=segm_kwargs['output_dir'],\n",
    "               output_dir_puncta=os.path.join(params['output_dir'], puncta_quant_dir),\n",
    "               output_dir_roi=os.path.join(params['output_dir'], roi_quant_dir),\n",
    "               parallel=True, n_jobs=params['n_jobs'],\n",
    "               channel_names=channel_names,\n",
    "               puncta_channels=params['puncta_channels'],\n",
    "               process_name='Quantify puncta')"
   ]
  },
  {
   "cell_type": "code",
   "execution_count": null,
   "metadata": {},
   "outputs": [],
   "source": []
  }
 ],
 "metadata": {
  "kernelspec": {
   "display_name": "Python [conda env:punctatools]",
   "language": "python",
   "name": "conda-env-punctatools-py"
  },
  "language_info": {
   "codemirror_mode": {
    "name": "ipython",
    "version": 3
   },
   "file_extension": ".py",
   "mimetype": "text/x-python",
   "name": "python",
   "nbconvert_exporter": "python",
   "pygments_lexer": "ipython3",
   "version": "3.9.0"
  }
 },
 "nbformat": 4,
 "nbformat_minor": 4
}
