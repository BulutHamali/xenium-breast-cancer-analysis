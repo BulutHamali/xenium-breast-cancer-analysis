{
 "cells": [
  {
   "cell_type": "markdown",
   "metadata": {
    "tags": []
   },
   "source": [
    "# Segment and quantify puncta in individual cells\n",
    "\n",
    "Detect and segment puncta and analyze their size and intensity. Calculate puncta statistics per cell nucleus.\n",
    "\n",
    "## Requirements\n",
    "- A folder with images that should be analyzed.  All z-layers for a specific sample must be combined into a single file. To combine z-layers and channels, run [run_images_to_stack.ipynb](run_images_to_stack.ipynb). \n",
    "\n",
    "- To compute puncta statistics per cell, cell segmentation should be provided as an additional channel. To segment cells/nuclei, run [run_cell_segmentation.ipynb](run_cell_segmentation.ipynb).\n",
    "\n",
    "<hr style=\"height:2px;\">\n",
    "\n",
    "## Config\n",
    "\n",
    "<hr style=\"height:2px;\">\n",
    "\n",
    "### The following code imports and declares functions used for the processing:"
   ]
  },
  {
   "cell_type": "code",
   "execution_count": 1,
   "metadata": {},
   "outputs": [
    {
     "name": "stdout",
     "output_type": "stream",
     "text": [
      "2022-01-24 11:39:17,059 [INFO] WRITING LOG OUTPUT TO /home/amedyukh/.cellpose/run.log\n"
     ]
    }
   ],
   "source": [
    "#################################\n",
    "#  Don't modify the code below  #\n",
    "#################################\n",
    "\n",
    "import json\n",
    "import os\n",
    "from punctatools.lib.segment import segment_puncta_batch\n",
    "from punctatools.lib.quantify import quantify_batch\n",
    "from punctatools.lib.utils import load_parameters, save_parameters"
   ]
  },
  {
   "cell_type": "markdown",
   "metadata": {},
   "source": [
    "### Specify the parameters for segmentation\n",
    "\n",
    "<hr style=\"height:0.5px;\">\n",
    "\n",
    "#### Option 1 (preferred)\n",
    "\n",
    "Specify the parameter file to read the parameters (`parameter_file`)\n",
    "\n",
    "To set up the parameters and generate the parameter file, run the notebook [setup_puncta_analysis.ipynb](setup_puncta_analysis.ipynb)\n",
    "\n",
    "<hr style=\"height:0.5px;\">\n",
    "\n",
    "#### Option 2\n",
    "\n",
    "Specify the parameter values:\n",
    "\n",
    "`input_dir`: folder with images to be analyzed\n",
    "\n",
    "`output_dir`: folder to save the result of the puncta analysis\n",
    "\n",
    "`puncta_segm_dir`: subfolder for puncta segmentation\n",
    "\n",
    "`puncta_stat_dir`: subfolder for individual puncta measurements\n",
    "\n",
    "`cell_stat_dir`: subfolder for individual cell measurements\n",
    "\n",
    "`puncta_channels`: list of channel indices, starting form 0, where puncta should be detected.\n",
    "\n",
    "`cell_segmentation`: True of False. If True, use the last channel of the input image as cell/nuclei mask.\n",
    "\n",
    "`minsize_um`: minimal sigma for the Laplacian of Gaussian detection (microns); default is 0.2\n",
    "\n",
    "`maxsize_um`: maximal sigma for the Laplacian of Gaussian detection (microns); default is 2\n",
    "\n",
    "`num_sigma`: number of sigma values for the Laplacian of Gaussian detection; default is 5\n",
    "\n",
    "`overlap`: a value between 0 and 1; if two blobs overlaps by a fraction greater than this value, the smaller blob is eliminated; default is 1 (blobs are removed only if overlapping completely)\n",
    "\n",
    "`threshold_detection`: threshold for detecting LoG blobs. The absolute lower bound for scale space maxima. Local maxima smaller than thresh are ignored. Reduce this to detect blobs with less intensities. Should be close to 0 and can be both positive and negative.\n",
    "\n",
    "`threshold_background`: threshold used to post-filter puncta in cells with diffuse signal. This threshold is provided relative to the median GFP intensity inside cells (e.g, `threshold_background` = 2 will result in all puncta with intensity lower than two median GPF (background) intensities being removed). Set to 0 to keep all puncta.\n",
    "\n",
    "`global_background`: If True, the background value is calculated globally as the `global_background_percentile` of all cells.(Default is True)\n",
    "\n",
    "`global_background_percentile`: Percentile (between 0 and 100) of cell background values to calculate the global background value. (Default is 95).\n",
    "\n",
    "`background_percentile`: Percentile (between 0 and 100) of image intensity inside cell to calculate the background value. (Default is 50 (median)).\n",
    "\n",
    "`threshold_segmentation`: Threshold for puncta segmentation. The way the threshold is applied is determined by `segmentation_mode`. For mode 0, choose values in the order of 0.001; for mode 1, choose values in the order of 50; for mode 2, choose values in the order of 3. Reduce to detect more/larger puncta, increase to detect fewer/smaller puncta\n",
    "\n",
    "`segmentation_mode`: 0, 1, or 2. Determines the mode how `threshold_segmentation` is applied; 0: apply absolute threshold in LoG space; 1: apply threshold relative to background in LoG space; 2: apply threshold relative to the background in image intensity space.\n",
    "\n",
    "`remove_out_of_cell`: If True, remove all puncta (parts) that are not inside cells/nuclei.\n",
    "\n",
    "`maxrad_um`: If not None, remove puncta with a radius larger than this value. Set to None to keep all detected puncta.\n",
    "\n",
    "\n",
    "`n_jobs`: number of processes to run in parallel. Set according to your workstation resources. Decrease if it runs out of memory. (Default is 8)\n",
    "\n",
    "`channel_names`: list of names for the channels in the original image"
   ]
  },
  {
   "cell_type": "code",
   "execution_count": 2,
   "metadata": {
    "tags": [
     "parameters"
    ]
   },
   "outputs": [],
   "source": [
    "parameter_file = 'parameters.json'\n",
    "\n",
    "# input_dir = \"../test_output/cells\"\n",
    "# output_dir = \"../test_output/puncta_analysis\"\n",
    "\n",
    "# puncta_segm_dir = 'puncta'\n",
    "# puncta_stat_dir = 'puncta_stats'\n",
    "# cell_stat_dir = 'cell_stats'\n",
    "\n",
    "# puncta_channels = [1, 2]\n",
    "\n",
    "# cell_segmentation = True\n",
    "\n",
    "# minsize_um = 0.2 \n",
    "# maxsize_um = 2  \n",
    "# num_sigma = 5  \n",
    "# overlap = 1  \n",
    "\n",
    "# threshold_detection = 0.001 \n",
    "\n",
    "# threshold_background = 3\n",
    "# global_background = True\n",
    "# global_background_percentile = 95\n",
    "# background_percentile = 50\n",
    "\n",
    "# threshold_segmentation = 50  \n",
    "# segmentation_mode = 1\n",
    "# remove_out_of_cell = True\n",
    "# maxrad_um = None\n",
    "\n",
    "# n_jobs=8\n",
    "\n",
    "# channel_names = ['ch0', 'ch1', 'ch2']"
   ]
  },
  {
   "cell_type": "markdown",
   "metadata": {},
   "source": [
    "<hr style=\"height:2px;\">\n",
    "\n",
    "## Processing\n",
    "\n",
    "<hr style=\"height:2px;\">\n",
    "\n",
    "\n",
    "### The following code loads the parameters "
   ]
  },
  {
   "cell_type": "code",
   "execution_count": 3,
   "metadata": {
    "tags": []
   },
   "outputs": [
    {
     "data": {
      "text/plain": [
       "{'puncta_segm_dir': 'puncta_segm',\n",
       " 'puncta_quant_dir': 'puncta_quants',\n",
       " 'roi_quant_dir': 'cell_quants',\n",
       " 'puncta_channels': [1, 2],\n",
       " 'cell_segmentation': False,\n",
       " 'minsize_um': 0.2,\n",
       " 'maxsize_um': 2,\n",
       " 'num_sigma': 5,\n",
       " 'overlap': 1,\n",
       " 'threshold_detection': [0.001, 0.0001],\n",
       " 'threshold_background': [3, 1.5],\n",
       " 'global_background': False,\n",
       " 'global_background_percentile': 95,\n",
       " 'background_percentile': 50,\n",
       " 'threshold_segmentation': [0.001, 0.0005],\n",
       " 'segmentation_mode': 0,\n",
       " 'remove_out_of_cell': False,\n",
       " 'maxrad_um': None,\n",
       " 'n_jobs': 8,\n",
       " 'channel_names': ['ch0', 'ch1', 'ch3'],\n",
       " 'output_dir': '/tmp/pycharm_project_989/test_output/puncta_analysis',\n",
       " 'input_dir': '/tmp/pycharm_project_989/test_output/cells'}"
      ]
     },
     "execution_count": 3,
     "metadata": {},
     "output_type": "execute_result"
    }
   ],
   "source": [
    "#################################\n",
    "#  Don't modify the code below  #\n",
    "#################################\n",
    "\n",
    "param_keys = [\n",
    "    'puncta_segm_dir',\n",
    "    'puncta_quant_dir',\n",
    "    'roi_quant_dir',\n",
    "    'puncta_channels',\n",
    "    'cell_segmentation',\n",
    "    'minsize_um',\n",
    "    'maxsize_um',\n",
    "    'num_sigma',\n",
    "    'overlap', \n",
    "    'threshold_detection', \n",
    "    'threshold_background', \n",
    "    'global_background', \n",
    "    'global_background_percentile', \n",
    "    'background_percentile', \n",
    "    'threshold_segmentation',\n",
    "    'segmentation_mode',\n",
    "    'remove_out_of_cell', \n",
    "    'maxrad_um', \n",
    "    'n_jobs',\n",
    "    'channel_names' \n",
    "]\n",
    "param_matches = dict(output_dir='puncta_analysis_dir')\n",
    "kwargs = load_parameters(vars(), param_keys, param_matches)\n",
    "if kwargs['cell_segmentation']:\n",
    "    param_matches['input_dir'] = 'cell_segmentation_dir'\n",
    "else:\n",
    "    param_matches['input_dir'] = 'converted_data_dir'\n",
    "kwargs = load_parameters(vars(), param_keys, param_matches)\n",
    "os.makedirs(kwargs['output_dir'], exist_ok=True)\n",
    "params = save_parameters(kwargs, \n",
    "                         os.path.join(kwargs['output_dir'], parameter_file))\n",
    "\n",
    "kwargs"
   ]
  },
  {
   "cell_type": "markdown",
   "metadata": {},
   "source": [
    "### The following code segments puncta in all image in the input folder"
   ]
  },
  {
   "cell_type": "code",
   "execution_count": 4,
   "metadata": {},
   "outputs": [
    {
     "name": "stdout",
     "output_type": "stream",
     "text": [
      "Run Segment puncta\n"
     ]
    },
    {
     "name": "stderr",
     "output_type": "stream",
     "text": [
      "100%|██████████████████████████████████████████████████████████████████████████████████████████████████████████████████████████████████████████████████████████████████████| 2/2 [00:00<00:00, 129.33it/s]\n"
     ]
    },
    {
     "name": "stdout",
     "output_type": "stream",
     "text": [
      "Segment puncta done\n"
     ]
    }
   ],
   "source": [
    "#################################\n",
    "#  Don't modify the code below  #\n",
    "#################################\n",
    "\n",
    "channel_names = kwargs.pop('channel_names')\n",
    "puncta_segm_dir = kwargs.pop('puncta_segm_dir')\n",
    "roi_quant_dir = kwargs.pop('roi_quant_dir')\n",
    "puncta_quant_dir = kwargs.pop('puncta_quant_dir')\n",
    "\n",
    "segm_kwargs = kwargs.copy()\n",
    "segm_kwargs['output_dir'] = os.path.join(segm_kwargs['output_dir'], puncta_segm_dir)\n",
    "segment_puncta_batch(parallel=True, process_name='Segment puncta', **segm_kwargs)"
   ]
  },
  {
   "cell_type": "markdown",
   "metadata": {},
   "source": [
    "### The following code quantifies all images"
   ]
  },
  {
   "cell_type": "code",
   "execution_count": 5,
   "metadata": {},
   "outputs": [
    {
     "name": "stdout",
     "output_type": "stream",
     "text": [
      "Run Quantify puncta\n"
     ]
    },
    {
     "name": "stderr",
     "output_type": "stream",
     "text": [
      "100%|██████████████████████████████████████████████████████████████████████████████████████████████████████████████████████████████████████████████████████████████████████| 2/2 [00:00<00:00, 122.45it/s]\n",
      "/research/sharedresources/cbi/public/conda_envs/punctatools/lib/python3.9/site-packages/punctatools/lib/quantify.py:124: RuntimeWarning: invalid value encountered in long_scalars\n",
      "  coloc = np.sum((overlap[cur_cell_pix] > 0)*1) / np.sum(union[cur_cell_pix])\n",
      "/research/sharedresources/cbi/public/conda_envs/punctatools/lib/python3.9/site-packages/punctatools/lib/quantify.py:124: RuntimeWarning: invalid value encountered in long_scalars\n",
      "  coloc = np.sum((overlap[cur_cell_pix] > 0)*1) / np.sum(union[cur_cell_pix])\n",
      "/research/sharedresources/cbi/public/conda_envs/punctatools/lib/python3.9/site-packages/scipy/stats/stats.py:4023: PearsonRConstantInputWarning: An input array is constant; the correlation coefficient is not defined.\n",
      "  warnings.warn(PearsonRConstantInputWarning())\n",
      "/research/sharedresources/cbi/public/conda_envs/punctatools/lib/python3.9/site-packages/scipy/stats/stats.py:4023: PearsonRConstantInputWarning: An input array is constant; the correlation coefficient is not defined.\n",
      "  warnings.warn(PearsonRConstantInputWarning())\n"
     ]
    },
    {
     "name": "stdout",
     "output_type": "stream",
     "text": [
      "Quantify puncta done\n"
     ]
    },
    {
     "name": "stderr",
     "output_type": "stream",
     "text": [
      "100%|██████████████████████████████████████████████████████████████████████████████████████████████████████████████████████████████████████████████████████████████████████| 2/2 [00:00<00:00, 169.21it/s]\n",
      "100%|██████████████████████████████████████████████████████████████████████████████████████████████████████████████████████████████████████████████████████████████████████| 2/2 [00:00<00:00, 373.46it/s]\n"
     ]
    }
   ],
   "source": [
    "#################################\n",
    "#  Don't modify the code below  #\n",
    "#################################\n",
    "\n",
    "quantify_batch(input_dir=segm_kwargs['output_dir'],\n",
    "               output_dir_puncta=os.path.join(kwargs['output_dir'], puncta_quant_dir),\n",
    "               output_dir_cells=os.path.join(kwargs['output_dir'], roi_quant_dir),\n",
    "               parallel=True, n_jobs=kwargs['n_jobs'],\n",
    "               channel_names=channel_names,\n",
    "               puncta_channels=kwargs['puncta_channels'],\n",
    "               process_name='Quantify puncta')"
   ]
  },
  {
   "cell_type": "code",
   "execution_count": null,
   "metadata": {},
   "outputs": [],
   "source": []
  }
 ],
 "metadata": {
  "kernelspec": {
   "display_name": "Python [conda env:punctatools]",
   "language": "python",
   "name": "conda-env-punctatools-py"
  },
  "language_info": {
   "codemirror_mode": {
    "name": "ipython",
    "version": 3
   },
   "file_extension": ".py",
   "mimetype": "text/x-python",
   "name": "python",
   "nbconvert_exporter": "python",
   "pygments_lexer": "ipython3",
   "version": "3.9.0"
  }
 },
 "nbformat": 4,
 "nbformat_minor": 4
}
