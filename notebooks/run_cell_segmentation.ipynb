{
 "cells": [
  {
   "cell_type": "markdown",
   "metadata": {},
   "source": [
    "# Segmentation of cells/nuclei with [Cellpose](http://www.cellpose.org/) \n",
    "\n",
    "This notebook segments cell nuclei in each z-layer and combines them into a 3D mask.\n",
    "\n",
    "#### Documentation\n",
    "\n",
    "- [Cellpose documentation](https://cellpose.readthedocs.io/en/latest/)\n",
    "- [Paper](https://www.biorxiv.org/content/10.1101/2020.02.02.931238v1)\n",
    "- [Code](https://github.com/MouseLand/cellpose)\n",
    "\n",
    "## Requirements\n",
    "- A folder with images that should be segmented. All z-layers for a specific sample must be combined into a single file. To combine z-layers and channels, run [images_to_stack.ipynb](images_to_stack.ipynb).\n",
    "\n",
    "<hr style=\"height:2px;\">\n",
    "\n",
    "## Config\n",
    "\n",
    "<hr style=\"height:2px;\">\n",
    "\n",
    "### The following code imports and declares functions used for the processing:"
   ]
  },
  {
   "cell_type": "code",
   "execution_count": null,
   "metadata": {},
   "outputs": [],
   "source": [
    "#################################\n",
    "#  Don't modify the code below  #\n",
    "#################################\n",
    "\n",
    "from punctatools.lib.segment import segment_cells_batch\n",
    "from punctatools.lib.utils import load_parameters"
   ]
  },
  {
   "cell_type": "markdown",
   "metadata": {},
   "source": [
    "## Specify the parameters for segmentation\n",
    "\n",
    "<hr style=\"height:0.5px;\">\n",
    "\n",
    "#### Option 1 (preferred)\n",
    "\n",
    "Specify the parameter file to read the parameters (`parameter_file`)\n",
    "\n",
    "To set up the parameters and generate the parameter file, run the notebook [setup_cell_segmentation.ipynb](setup_cell_segmentation.ipynb)\n",
    "\n",
    "<hr style=\"height:0.5px;\">\n",
    "\n",
    "#### Option 2\n",
    "\n",
    "Specify the parameter values:\n",
    "\n",
    "`input_dir`: folder with images of cells to be segmented\n",
    "\n",
    "`output_dir`: folder to save results\n",
    "\n",
    "`channel`: channel index (starting from 0) to use for cell segmentation\n",
    "\n",
    "`diameter`: average nucleus diameter in pixels; set to `None` to automatically detect the cell diameter\n",
    "\n",
    "`model_type`: `nuclei` for nuclei segmentationm, `cyto` to segment cells\n",
    "\n",
    "`do_3D`: to perform segmentation in 3D set to `True`, to segment layer-by-layer set to `False`. If there is only one layer of cells, choose `False` since the 2D segmentation is faster\n",
    "\n",
    "`remove_small_mode` : '2D', or '3D'. Used to remove small cells/nuclei by volume (3D) or area (2D). For a thin stack (as in the example data), use '2D'. (Default is '3D')\n",
    "\n",
    "`remove_small_diam_fraction` : Minimal diameter for the cells/nuclei. Provided as a fraction of the target diameter (the `diameter` parameter). (Default is 0.5)\n",
    "\n",
    "\n",
    "`clear_border` : If True, will remove cell touching image border (in xy only). (Default is False)\n",
    "\n",
    "`flow_threshold`: increase if model returns too few masks, decrease if model returns too many ill-shaped masks\n",
    "\n",
    "`probability_threshold`:  decrease if model returns too few cells, increase if model returns too many cells  \n",
    "Values should be between -6 and +6\n",
    "\n",
    "`gpu`: set to `True` to use GPU, set to `False` to use CPU\n"
   ]
  },
  {
   "cell_type": "code",
   "execution_count": null,
   "metadata": {
    "tags": [
     "parameters"
    ]
   },
   "outputs": [],
   "source": [
    "parameter_file = 'parameters.json'\n",
    "\n",
    "# input_dir = \"../example_data/stacks\"\n",
    "# output_dir = \"../test_output/cell_segmentation\"\n",
    "# channel = 0\n",
    "\n",
    "# diameter = 120 \n",
    "# model_type = \"cyto\" \n",
    "# do_3D = False\n",
    "\n",
    "# remove_small_mode = '2D'\n",
    "# remove_small_diam_fraction = 0.5\n",
    "# clear_border = False\n",
    "\n",
    "# flow_threshold = 0.4        \n",
    "# cellprob_threshold = 0  \n",
    "# gpu = True"
   ]
  },
  {
   "cell_type": "markdown",
   "metadata": {},
   "source": [
    "<hr style=\"height:2px;\">\n",
    "\n",
    "## Processing\n",
    "\n",
    "<hr style=\"height:2px;\">\n",
    "\n",
    "\n",
    "### The following code loads the parameters "
   ]
  },
  {
   "cell_type": "code",
   "execution_count": null,
   "metadata": {
    "scrolled": true
   },
   "outputs": [],
   "source": [
    "#################################\n",
    "#  Don't modify the code below  #\n",
    "#################################\n",
    "\n",
    "param_keys = ['diameter',\n",
    "              'model_type',\n",
    "              'do_3D',\n",
    "              'remove_small_mode',\n",
    "              'remove_small_diam_fraction',\n",
    "              'flow_threshold',\n",
    "              'cellprob_threshold',\n",
    "              'gpu']\n",
    "param_matches = dict(input_dir='converted_data_dir', \n",
    "                     output_dir='cell_segmentation_dir',\n",
    "                     channel='cells_channel')\n",
    "kwargs = load_parameters(vars(), param_keys, param_matches)\n",
    "kwargs"
   ]
  },
  {
   "cell_type": "markdown",
   "metadata": {},
   "source": [
    "### The following code segments all images and saves the results: "
   ]
  },
  {
   "cell_type": "code",
   "execution_count": null,
   "metadata": {
    "scrolled": true,
    "tags": []
   },
   "outputs": [],
   "source": [
    "%%time\n",
    "#################################\n",
    "#  Don't modify the code below  #\n",
    "#################################\n",
    "\n",
    "segment_cells_batch(**kwargs)"
   ]
  },
  {
   "cell_type": "code",
   "execution_count": null,
   "metadata": {},
   "outputs": [],
   "source": []
  }
 ],
 "metadata": {
  "kernelspec": {
   "display_name": "Python [conda env:punctatools]",
   "language": "python",
   "name": "conda-env-punctatools-py"
  },
  "language_info": {
   "codemirror_mode": {
    "name": "ipython",
    "version": 3
   },
   "file_extension": ".py",
   "mimetype": "text/x-python",
   "name": "python",
   "nbconvert_exporter": "python",
   "pygments_lexer": "ipython3",
   "version": "3.9.0"
  }
 },
 "nbformat": 4,
 "nbformat_minor": 4
}
