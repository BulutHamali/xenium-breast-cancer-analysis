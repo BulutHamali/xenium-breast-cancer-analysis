{
 "cells": [
  {
   "cell_type": "markdown",
   "metadata": {},
   "source": [
    "# Segmentation of cells/nuclei \n",
    "\n",
    "This notebook segments cells or nuclei in fluorescent images using [Cellpose](http://www.cellpose.org/) \n",
    "\n",
    "## Requirements\n",
    "\n",
    "- A folder with images to analyze (see [setup_roi_segmentation.ipynb](setup_roi_segmentation.ipynb) for details)\n",
    "- A json parameter file specified using [setup_roi_segmentation.ipynb](setup_roi_segmentation.ipynb)\n",
    "\n",
    "\n",
    "<hr style=\"height:2px;\">\n",
    "\n",
    "## Config\n",
    "\n",
    "<hr style=\"height:2px;\">\n",
    "\n",
    "### The following code imports and declares functions used for the processing:"
   ]
  },
  {
   "cell_type": "code",
   "execution_count": 1,
   "metadata": {},
   "outputs": [
    {
     "name": "stdout",
     "output_type": "stream",
     "text": [
      "2022-01-26 15:22:15,693 [INFO] WRITING LOG OUTPUT TO /home/amedyukh/.cellpose/run.log\n"
     ]
    }
   ],
   "source": [
    "#################################\n",
    "#  Don't modify the code below  #\n",
    "#################################\n",
    "\n",
    "from punctatools.lib.segment import segment_roi_batch\n",
    "from punctatools.lib.utils import load_parameters"
   ]
  },
  {
   "cell_type": "markdown",
   "metadata": {},
   "source": [
    "<hr style=\"height:0.5px;\">\n",
    "\n",
    "## Specify the parameters for segmentation\n",
    "\n",
    "<hr style=\"height:0.5px;\">\n",
    "\n",
    "#### Option 1 (preferred)\n",
    "\n",
    "Specify the parameter file to read the parameters (`parameter_file`)\n",
    "\n",
    "To set up the parameters and generate the parameter file, run the notebook [setup_roi_segmentation.ipynb](setup_roi_segmentation.ipynb)\n",
    "\n",
    "<hr style=\"height:0.5px;\">\n",
    "\n",
    "#### Option 2\n",
    "\n",
    "Specify the parameter values (see [setup_roi_segmentation.ipynb](setup_roi_segmentation.ipynb) for more details)\n",
    "\n",
    "`input_dir`: directory with images to be analyzed\n",
    "\n",
    "`output_dir`: directory to save the segmentation results\n",
    "\n",
    "`channel`: channel index (starting from 0) to use for ROI segmentation\n",
    "\n",
    "`diameter`: average cell/nucleus diameter in pixels\n",
    "\n",
    "`model_type`: cellpose model (`nuclei`, `cyto`, or `cyto2`)\n",
    "\n",
    "`gpu`: set to `True` to use GPU, set to `False` to use CPU\n",
    "\n",
    "`do_3D`: cellpose 3D segmentation mode (`True` or `False`)\n",
    "\n",
    "\n",
    "`flow_threshold`: (cellpose parameter) the maximum allowed error of the flows for each mask\n",
    "\n",
    "`cellprob_threshold`: (cellpose parameter) defines which pixels are used to run dynamics and determine masks\n",
    "\n",
    "`remove_small_mode` : '2D', or '3D'. Used to remove small cells/nuclei by volume (3D) or area (2D). \n",
    "\n",
    "`remove_small_diam_fraction` : Minimal diameter for the cells/nuclei as a fraction of the `diameter` parameter\n",
    "\n",
    "`clear_border` : If True, will remove cell touching image border (in xy only)\n"
   ]
  },
  {
   "cell_type": "code",
   "execution_count": 2,
   "metadata": {
    "tags": [
     "parameters"
    ]
   },
   "outputs": [],
   "source": [
    "parameter_file = 'parameters.json'\n",
    "\n",
    "# input_dir = \"../example_data/stacks\"\n",
    "# output_dir = \"../test_output/cell_segmentation\"\n",
    "# channel = 0\n",
    "\n",
    "# diameter = 120 \n",
    "# model_type = \"cyto\" \n",
    "# gpu = True\n",
    "# do_3D = False\n",
    "# flow_threshold = 0.4        \n",
    "# cellprob_threshold = 0  \n",
    "\n",
    "# remove_small_mode = '2D'\n",
    "# remove_small_diam_fraction = 0.5\n",
    "# clear_border = False"
   ]
  },
  {
   "cell_type": "markdown",
   "metadata": {},
   "source": [
    "<hr style=\"height:2px;\">\n",
    "\n",
    "## Processing\n",
    "\n",
    "<hr style=\"height:2px;\">\n",
    "\n",
    "\n",
    "### The following code loads the parameters "
   ]
  },
  {
   "cell_type": "code",
   "execution_count": 3,
   "metadata": {
    "scrolled": true
   },
   "outputs": [
    {
     "data": {
      "text/plain": [
       "{'diameter': 120,\n",
       " 'model_type': 'cyto',\n",
       " 'do_3D': False,\n",
       " 'remove_small_mode': '2D',\n",
       " 'remove_small_diam_fraction': 0.5,\n",
       " 'flow_threshold': 0.4,\n",
       " 'cellprob_threshold': 0,\n",
       " 'gpu': True,\n",
       " 'input_dir': '/tmp/pycharm_project_989/example_data/stacks',\n",
       " 'output_dir': '/tmp/pycharm_project_989/test_output/roi',\n",
       " 'channel': 0}"
      ]
     },
     "execution_count": 3,
     "metadata": {},
     "output_type": "execute_result"
    }
   ],
   "source": [
    "#################################\n",
    "#  Don't modify the code below  #\n",
    "#################################\n",
    "\n",
    "param_keys = ['diameter',\n",
    "              'model_type',\n",
    "              'do_3D',\n",
    "              'remove_small_mode',\n",
    "              'remove_small_diam_fraction',\n",
    "              'flow_threshold',\n",
    "              'cellprob_threshold',\n",
    "              'gpu']\n",
    "param_matches = dict(input_dir='converted_data_dir', \n",
    "                     output_dir='roi_segmentation_dir',\n",
    "                     channel='roi_channel')\n",
    "kwargs = load_parameters(vars(), param_keys, param_matches)\n",
    "kwargs"
   ]
  },
  {
   "cell_type": "markdown",
   "metadata": {},
   "source": [
    "### The following code segments all images and saves the results: "
   ]
  },
  {
   "cell_type": "code",
   "execution_count": 4,
   "metadata": {
    "scrolled": true,
    "tags": []
   },
   "outputs": [
    {
     "name": "stdout",
     "output_type": "stream",
     "text": [
      "/tmp/pycharm_project_989/example_data/stacks/sample1_position1.tif\n",
      "Processing sample 1 of 2\n",
      "2022-01-26 15:22:19,363 [INFO] ** TORCH CUDA version installed and working. **\n",
      "2022-01-26 15:22:19,364 [INFO] >>>> using GPU\n",
      "2022-01-26 15:22:19,460 [WARNING] cellprob_threshold and dist_threshold are being deprecated in a future release, use mask_threshold instead\n",
      "2022-01-26 15:22:19,461 [INFO] ~~~ FINDING MASKS ~~~\n",
      "2022-01-26 15:22:19,463 [INFO] 0%|          | 0/5 [00:00<?, ?it/s]\n",
      "2022-01-26 15:22:20,183 [INFO] 20%|##        | 1/5 [00:00<00:02,  1.39it/s]\n",
      "2022-01-26 15:22:20,810 [INFO] 40%|####      | 2/5 [00:01<00:01,  1.50it/s]\n",
      "2022-01-26 15:22:21,436 [INFO] 60%|######    | 3/5 [00:01<00:01,  1.55it/s]\n",
      "2022-01-26 15:22:22,060 [INFO] 80%|########  | 4/5 [00:02<00:00,  1.57it/s]\n",
      "2022-01-26 15:22:22,694 [INFO] 100%|##########| 5/5 [00:03<00:00,  1.57it/s]\n",
      "2022-01-26 15:22:22,695 [INFO] 100%|##########| 5/5 [00:03<00:00,  1.55it/s]\n",
      "2022-01-26 15:22:22,695 [INFO] >>>> TOTAL TIME 3.23 sec\n",
      "/tmp/pycharm_project_989/example_data/stacks/sample1_position2.tif\n",
      "Processing sample 2 of 2\n",
      "2022-01-26 15:22:22,776 [INFO] ** TORCH CUDA version installed and working. **\n",
      "2022-01-26 15:22:22,777 [INFO] >>>> using GPU\n",
      "2022-01-26 15:22:22,845 [WARNING] cellprob_threshold and dist_threshold are being deprecated in a future release, use mask_threshold instead\n",
      "2022-01-26 15:22:22,846 [INFO] ~~~ FINDING MASKS ~~~\n",
      "2022-01-26 15:22:22,846 [INFO] 0%|          | 0/5 [00:00<?, ?it/s]\n",
      "2022-01-26 15:22:23,474 [INFO] 20%|##        | 1/5 [00:00<00:02,  1.59it/s]\n",
      "2022-01-26 15:22:24,101 [INFO] 40%|####      | 2/5 [00:01<00:01,  1.59it/s]\n",
      "2022-01-26 15:22:24,728 [INFO] 60%|######    | 3/5 [00:01<00:01,  1.59it/s]\n",
      "2022-01-26 15:22:25,354 [INFO] 80%|########  | 4/5 [00:02<00:00,  1.60it/s]\n",
      "2022-01-26 15:22:25,979 [INFO] 100%|##########| 5/5 [00:03<00:00,  1.60it/s]\n",
      "2022-01-26 15:22:25,980 [INFO] 100%|##########| 5/5 [00:03<00:00,  1.60it/s]\n",
      "2022-01-26 15:22:25,980 [INFO] >>>> TOTAL TIME 3.13 sec\n",
      "CPU times: user 9.05 s, sys: 1.86 s, total: 10.9 s\n",
      "Wall time: 10.1 s\n"
     ]
    }
   ],
   "source": [
    "%%time\n",
    "#################################\n",
    "#  Don't modify the code below  #\n",
    "#################################\n",
    "\n",
    "segment_roi_batch(**kwargs)"
   ]
  },
  {
   "cell_type": "code",
   "execution_count": null,
   "metadata": {},
   "outputs": [],
   "source": []
  }
 ],
 "metadata": {
  "kernelspec": {
   "display_name": "Python [conda env:punctatools]",
   "language": "python",
   "name": "conda-env-punctatools-py"
  },
  "language_info": {
   "codemirror_mode": {
    "name": "ipython",
    "version": 3
   },
   "file_extension": ".py",
   "mimetype": "text/x-python",
   "name": "python",
   "nbconvert_exporter": "python",
   "pygments_lexer": "ipython3",
   "version": "3.9.0"
  }
 },
 "nbformat": 4,
 "nbformat_minor": 4
}
