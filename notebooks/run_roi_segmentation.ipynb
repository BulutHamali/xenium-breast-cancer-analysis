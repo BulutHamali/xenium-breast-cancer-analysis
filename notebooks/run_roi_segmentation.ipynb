{
 "cells": [
  {
   "cell_type": "markdown",
   "metadata": {},
   "source": [
    "# Segmentation of cells/nuclei \n",
    "\n",
    "This notebook segments cells or nuclei in fluorescent images using [Cellpose](http://www.cellpose.org/) \n",
    "\n",
    "## Documentation\n",
    "\n",
    "[Details of the cell/nuclei segmentation procedure](../docs/roi_segmentation.md)\n",
    "\n",
    "[Table summarizing all parameters that are used in this notebook](../docs/parameters.md#list-of-parameters-for-ROI-segmentation)\n",
    "\n",
    "## Requirements\n",
    "\n",
    "- A folder with images to segment\n",
    "- A json parameter file specified using [setup_roi_segmentation.ipynb](setup_roi_segmentation.ipynb)\n",
    "\n",
    "\n",
    "<hr style=\"height:2px;\">\n",
    "\n",
    "## Config\n",
    "\n",
    "<hr style=\"height:2px;\">\n",
    "\n",
    "### The following code imports and declares functions used for the processing:"
   ]
  },
  {
   "cell_type": "code",
   "execution_count": 1,
   "metadata": {},
   "outputs": [
    {
     "name": "stdout",
     "output_type": "stream",
     "text": [
      "2022-06-15 15:52:39,714 [INFO] WRITING LOG OUTPUT TO /home/amedyukh/.cellpose/run.log\n"
     ]
    }
   ],
   "source": [
    "#################################\n",
    "#  Don't modify the code below  #\n",
    "#################################\n",
    "\n",
    "import json\n",
    "from punctatools.lib.segment import segment_roi_batch"
   ]
  },
  {
   "cell_type": "markdown",
   "metadata": {},
   "source": [
    "<hr style=\"height:0.5px;\">\n",
    "\n",
    "## Specify the parameters for segmentation\n",
    "\n",
    "<hr style=\"height:0.5px;\">\n",
    "\n",
    "`parameter_file`: json parameter file generated using [setup_roi_segmentation.ipynb](setup_roi_segmentation.ipynb). \n",
    "\n",
    "`input_dir`: folder with images to be converted; set to `None` to load this value from the parameter file\n",
    "\n",
    "`output_dir`: folder to save results; set to `None` to load this value from the parameter file.\n"
   ]
  },
  {
   "cell_type": "code",
   "execution_count": 2,
   "metadata": {
    "tags": [
     "parameters"
    ]
   },
   "outputs": [],
   "source": [
    "parameter_file = '../example_data/parameters/parameters_roi.json'\n",
    "\n",
    "input_dir = None\n",
    "output_dir = None"
   ]
  },
  {
   "cell_type": "markdown",
   "metadata": {},
   "source": [
    "\n",
    "### The following code loads the parameters "
   ]
  },
  {
   "cell_type": "code",
   "execution_count": 3,
   "metadata": {
    "scrolled": true
   },
   "outputs": [
    {
     "data": {
      "text/plain": [
       "{'input_dir': '../example_data/stacks',\n",
       " 'output_dir': '../test_output/roi',\n",
       " 'channel': 0,\n",
       " 'diameter': 120,\n",
       " 'model_type': 'cyto',\n",
       " 'do_3D': False,\n",
       " 'remove_small_mode': '2D',\n",
       " 'remove_small_diam_fraction': 0.5,\n",
       " 'flow_threshold': 0.4,\n",
       " 'cellprob_threshold': 0,\n",
       " 'gpu': True}"
      ]
     },
     "execution_count": 3,
     "metadata": {},
     "output_type": "execute_result"
    }
   ],
   "source": [
    "#################################\n",
    "#  Don't modify the code below  #\n",
    "#################################\n",
    "\n",
    "with open(parameter_file) as f:\n",
    "    params = json.load(f)\n",
    "\n",
    "if input_dir is not None:\n",
    "    params['input_dir'] = input_dir.rstrip('/')\n",
    "if output_dir is not None:\n",
    "    params['output_dir'] = output_dir.rstrip('/')\n",
    "    \n",
    "params"
   ]
  },
  {
   "cell_type": "markdown",
   "metadata": {},
   "source": [
    "<hr style=\"height:2px;\">\n",
    "\n",
    "## Processing\n",
    "\n",
    "<hr style=\"height:2px;\">\n",
    "\n",
    "### The following code segments all images and saves the results: "
   ]
  },
  {
   "cell_type": "code",
   "execution_count": 4,
   "metadata": {
    "scrolled": true,
    "tags": []
   },
   "outputs": [
    {
     "name": "stdout",
     "output_type": "stream",
     "text": [
      "../example_data/stacks/sample1_position1.tif\n",
      "Processing sample 1 of 2\n",
      "2022-06-15 15:52:44,823 [INFO] ** TORCH CUDA version installed and working. **\n",
      "2022-06-15 15:52:44,825 [INFO] >>>> using GPU\n",
      "2022-06-15 15:52:44,931 [WARNING] cellprob_threshold and dist_threshold are being deprecated in a future release, use mask_threshold instead\n",
      "2022-06-15 15:52:44,932 [INFO] ~~~ FINDING MASKS ~~~\n",
      "2022-06-15 15:52:44,934 [INFO] 0%|          | 0/5 [00:00<?, ?it/s]\n",
      "2022-06-15 15:52:45,746 [INFO] 20%|##        | 1/5 [00:00<00:03,  1.23it/s]\n",
      "2022-06-15 15:52:46,450 [INFO] 40%|####      | 2/5 [00:01<00:02,  1.34it/s]\n",
      "2022-06-15 15:52:47,156 [INFO] 60%|######    | 3/5 [00:02<00:01,  1.37it/s]\n",
      "2022-06-15 15:52:47,868 [INFO] 80%|########  | 4/5 [00:02<00:00,  1.38it/s]\n",
      "2022-06-15 15:52:48,575 [INFO] 100%|##########| 5/5 [00:03<00:00,  1.40it/s]\n",
      "2022-06-15 15:52:48,575 [INFO] 100%|##########| 5/5 [00:03<00:00,  1.37it/s]\n",
      "2022-06-15 15:52:48,576 [INFO] >>>> TOTAL TIME 3.64 sec\n",
      "../example_data/stacks/sample1_position2.tif\n",
      "Processing sample 2 of 2\n",
      "2022-06-15 15:52:48,678 [INFO] ** TORCH CUDA version installed and working. **\n",
      "2022-06-15 15:52:48,679 [INFO] >>>> using GPU\n",
      "2022-06-15 15:52:48,756 [WARNING] cellprob_threshold and dist_threshold are being deprecated in a future release, use mask_threshold instead\n",
      "2022-06-15 15:52:48,757 [INFO] ~~~ FINDING MASKS ~~~\n",
      "2022-06-15 15:52:48,758 [INFO] 0%|          | 0/5 [00:00<?, ?it/s]\n",
      "2022-06-15 15:52:49,474 [INFO] 20%|##        | 1/5 [00:00<00:02,  1.40it/s]\n",
      "2022-06-15 15:52:50,183 [INFO] 40%|####      | 2/5 [00:01<00:02,  1.41it/s]\n",
      "2022-06-15 15:52:50,888 [INFO] 60%|######    | 3/5 [00:02<00:01,  1.41it/s]\n",
      "2022-06-15 15:52:51,590 [INFO] 80%|########  | 4/5 [00:02<00:00,  1.42it/s]\n",
      "2022-06-15 15:52:52,290 [INFO] 100%|##########| 5/5 [00:03<00:00,  1.42it/s]\n",
      "2022-06-15 15:52:52,291 [INFO] 100%|##########| 5/5 [00:03<00:00,  1.42it/s]\n",
      "2022-06-15 15:52:52,291 [INFO] >>>> TOTAL TIME 3.53 sec\n",
      "CPU times: user 10.3 s, sys: 2.77 s, total: 13.1 s\n",
      "Wall time: 12.4 s\n"
     ]
    }
   ],
   "source": [
    "%%time\n",
    "#################################\n",
    "#  Don't modify the code below  #\n",
    "#################################\n",
    "\n",
    "segment_roi_batch(**params)"
   ]
  },
  {
   "cell_type": "code",
   "execution_count": null,
   "metadata": {},
   "outputs": [],
   "source": []
  }
 ],
 "metadata": {
  "kernelspec": {
   "display_name": "Python [conda env:punctatools]",
   "language": "python",
   "name": "conda-env-punctatools-py"
  },
  "language_info": {
   "codemirror_mode": {
    "name": "ipython",
    "version": 3
   },
   "file_extension": ".py",
   "mimetype": "text/x-python",
   "name": "python",
   "nbconvert_exporter": "python",
   "pygments_lexer": "ipython3",
   "version": "3.9.0"
  }
 },
 "nbformat": 4,
 "nbformat_minor": 4
}
