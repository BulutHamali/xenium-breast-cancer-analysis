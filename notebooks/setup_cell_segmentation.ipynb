{
 "cells": [
  {
   "cell_type": "markdown",
   "metadata": {},
   "source": [
    "# Segmentation of cells/nuclei with [Cellpose](http://www.cellpose.org/) (Setup)\n",
    "\n",
    "This notebook segments cell nuclei in each z-layer and combines them into a 3D mask.\n",
    "\n",
    "Run this notebook cell-by-cell and follow the instructions.\n",
    "\n",
    "#### Documentation\n",
    "\n",
    "- [Cellpose documentation](https://cellpose.readthedocs.io/en/latest/)\n",
    "- [Paper](https://www.biorxiv.org/content/10.1101/2020.02.02.931238v1)\n",
    "- [Code](https://github.com/MouseLand/cellpose)\n",
    "\n",
    "## Requirements\n",
    "- A folder with images that should be segmented. All z-layers for a specific sample must be combined into a single file. To combine z-layers and channels, run [images_to_stack.ipynb](images_to_stack.ipynb).\n",
    "\n",
    "<hr style=\"height:2px;\">\n",
    "\n",
    "## Config\n",
    "\n",
    "<hr style=\"height:2px;\">\n",
    "\n",
    "### The following code imports and declares functions used for the processing:"
   ]
  },
  {
   "cell_type": "code",
   "execution_count": null,
   "metadata": {},
   "outputs": [],
   "source": [
    "#################################\n",
    "#  Don't modify the code below  #\n",
    "#################################\n",
    "\n",
    "import os\n",
    "import intake_io\n",
    "import numpy as np\n",
    "from skimage import io\n",
    "import pylab as plt\n",
    "from am_utils.utils import walk_dir\n",
    "from cellpose import models, utils, plot, transforms\n",
    "from punctatools.lib.segment import segment_cells\n",
    "from punctatools.lib.utils import save_parameters"
   ]
  },
  {
   "cell_type": "markdown",
   "metadata": {},
   "source": [
    "### Please provide data paths:\n",
    "\n",
    "`input_dir`: folder with images of cells to be segmented\n",
    "\n",
    "`output_dir`: folder to save results"
   ]
  },
  {
   "cell_type": "code",
   "execution_count": null,
   "metadata": {
    "tags": [
     "parameters"
    ]
   },
   "outputs": [],
   "source": [
    "input_dir = \"../example_data/stacks\"\n",
    "output_dir = \"../test_output/cells\""
   ]
  },
  {
   "cell_type": "markdown",
   "metadata": {},
   "source": [
    "### The following code lists all image files in the input directory:"
   ]
  },
  {
   "cell_type": "code",
   "execution_count": null,
   "metadata": {
    "scrolled": true
   },
   "outputs": [],
   "source": [
    "#################################\n",
    "#  Don't modify the code below  #\n",
    "#################################\n",
    "\n",
    "samples = walk_dir(input_dir)\n",
    "\n",
    "print(f'{len(samples)} images were found:')\n",
    "print(np.array(samples))"
   ]
  },
  {
   "cell_type": "markdown",
   "metadata": {},
   "source": [
    "### The following code loads a random image"
   ]
  },
  {
   "cell_type": "code",
   "execution_count": null,
   "metadata": {},
   "outputs": [],
   "source": [
    "#################################\n",
    "#  Don't modify the code below  #\n",
    "#################################\n",
    "\n",
    "sample = samples[np.random.randint(len(samples))]\n",
    "dataset = intake_io.imload(sample)\n",
    "print(dataset, '\\n')\n",
    "if 'c' in dataset.dims:\n",
    "    nchannels = len(dataset['c'].data)\n",
    "    chnames = dataset['c'].data\n",
    "else:\n",
    "    nchannels = 1\n",
    "    chnames = [0]\n",
    "print(rf\"Number of channels: {nchannels}\")"
   ]
  },
  {
   "cell_type": "markdown",
   "metadata": {},
   "source": [
    "### Specify the channel index to segment\n",
    "\n",
    "Channel index starts from 0"
   ]
  },
  {
   "cell_type": "code",
   "execution_count": null,
   "metadata": {},
   "outputs": [],
   "source": [
    "channel = 0"
   ]
  },
  {
   "cell_type": "markdown",
   "metadata": {},
   "source": [
    "### The following code displays an example image"
   ]
  },
  {
   "cell_type": "code",
   "execution_count": null,
   "metadata": {},
   "outputs": [],
   "source": [
    "#################################\n",
    "#  Don't modify the code below  #\n",
    "#################################\n",
    "\n",
    "if 'c' in dataset.dims:\n",
    "    img = dataset.loc[dict(c=chnames[channel])]['image']\n",
    "else:\n",
    "    img = dataset['image']\n",
    "if 'z' in dataset.dims:\n",
    "    img = img.loc[dict(z=img['z'][int(len(img['z'])/2 - 0.5)])]\n",
    "    \n",
    "plt.figure(figsize=(8,8))\n",
    "io.imshow(img.data)"
   ]
  },
  {
   "cell_type": "markdown",
   "metadata": {},
   "source": [
    "### Please specify cell segmentation parameters\n",
    "\n",
    "#### Cellpose parameters\n",
    "\n",
    "`diameter`: average nucleus diameter in pixels; set to `None` to automatically detect the cell diameter\n",
    "\n",
    "`model_type`: `nuclei` for nuclei segmentationm, `cyto` to segment cells \n",
    "\n",
    "`do_3D`: to perform segmentation in 3D set to `True`, to segment layer-by-layer set to `False`. If there is only one layer of cells, choose `False` since the 2D segmentation is faster\n",
    "\n",
    "#### Other parameters\n",
    "\n",
    "`remove_small_mode` : '2D', or '3D'. Used to remove small cells/nuclei by volume (3D) or area (2D). For a thin stack (as in the example data), use '2D'. (Default is '2D')\n",
    "\n",
    "`remove_small_diam_fraction` : Minimal diameter for the cells/nuclei. Provided as a fraction of the target diameter (the `diameter` parameter). (Default is 0.5)\n",
    "\n",
    "\n",
    "`clear_border` : If True, will remove cell touching image border (in xy only). (Default is False)"
   ]
  },
  {
   "cell_type": "code",
   "execution_count": null,
   "metadata": {},
   "outputs": [],
   "source": [
    "diameter = 120 \n",
    "model_type = \"cyto\" # it seems like the \"cyto\" model works better for this dataset\n",
    "do_3D = False\n",
    "\n",
    "remove_small_mode = '2D'\n",
    "remove_small_diam_fraction = 0.5\n",
    "clear_border = False"
   ]
  },
  {
   "cell_type": "markdown",
   "metadata": {},
   "source": [
    "### Advanced cellpose parameters:\n",
    "\n",
    "`flow_threshold`: increase if model returns too few masks, decrease if model returns too many ill-shaped masks\n",
    "\n",
    "`probability_threshold`:  decrease if model returns too few cells, increase if model returns too many cells  \n",
    "Values should be between -6 and +6\n",
    "\n",
    "`gpu`: set to `True` to use GPU, set to `False` to use CPU"
   ]
  },
  {
   "cell_type": "code",
   "execution_count": null,
   "metadata": {},
   "outputs": [],
   "source": [
    "flow_threshold = 0.4        # default: 0.4\n",
    "cellprob_threshold = 0   # default: 0.0\n",
    "gpu = True"
   ]
  },
  {
   "cell_type": "markdown",
   "metadata": {},
   "source": [
    "### The following code segments the random image and displays the results:"
   ]
  },
  {
   "cell_type": "code",
   "execution_count": null,
   "metadata": {},
   "outputs": [],
   "source": [
    "#################################\n",
    "#  Don't modify the code below  #\n",
    "#################################\n",
    "\n",
    "masks, flows, styles, diams = segment_cells(dataset, channel, do_3D=do_3D, model_type=model_type,\n",
    "                                            diameter=diameter, remove_small_mode=remove_small_mode,\n",
    "                                            remove_small_diam_fraction=remove_small_diam_fraction,\n",
    "                                            clear_border=clear_border, gpu=gpu,\n",
    "                                            flow_threshold=flow_threshold, \n",
    "                                            cellprob_threshold=cellprob_threshold,\n",
    "                                            return_cellpose_debug=True)\n",
    "\n",
    "#display the results\n",
    "if 'c' in dataset.dims:\n",
    "    imgs = dataset.loc[dict(c=chnames[channel])]['image'].data\n",
    "else:\n",
    "    imgs = dataset['image'].data\n",
    "\n",
    "if 'z' not in dataset.dims:\n",
    "    imgs = [imgs]\n",
    "    masks = [masks]\n",
    "    \n",
    "for i in range(min(5, len(imgs))):\n",
    "    maski = masks[i]\n",
    "    flowi = flows[i][0]\n",
    "    img = imgs[i]\n",
    "    fig = plt.figure(figsize=(30,10))\n",
    "    if len(img.shape) > 2:\n",
    "        img = img[int(img.shape[0]/2)]\n",
    "        maski = maski[int(maski.shape[0]/2)]\n",
    "        flowi = flowi[int(flowi.shape[0]/2)]\n",
    "    plot.show_segmentation(fig, img, maski, flowi, channels=[0,0])\n",
    "    plt.tight_layout()\n",
    "    plt.show()"
   ]
  },
  {
   "cell_type": "markdown",
   "metadata": {},
   "source": [
    "<hr style=\"height:2px;\">\n",
    "\n",
    "## Run the full processing\n",
    "\n",
    "The parameters set up in this notebook will be used to segment images in batch.\n",
    "\n",
    "<hr style=\"height:2px;\">\n",
    "\n",
    "### Please provide the file name to save the parameters\n",
    "\n",
    "Default is `parameters.json`"
   ]
  },
  {
   "cell_type": "code",
   "execution_count": null,
   "metadata": {},
   "outputs": [],
   "source": [
    "parameter_file = 'parameters.json'"
   ]
  },
  {
   "cell_type": "markdown",
   "metadata": {},
   "source": [
    "### The following code saves the parameters\n",
    "\n",
    "To run the full processing, run the notebook [run_cell_segmentation.ipynb](run_cell_segmentation.ipynb) with the parameter values identified here."
   ]
  },
  {
   "cell_type": "code",
   "execution_count": null,
   "metadata": {},
   "outputs": [],
   "source": [
    "#################################\n",
    "#  Don't modify the code below  #\n",
    "#################################\n",
    "\n",
    "params = dict(\n",
    "    converted_data_dir=os.path.realpath(input_dir),\n",
    "    cell_segmentation_dir=os.path.realpath(output_dir),\n",
    "    cells_channel=channel,\n",
    "    diameter=diameter,\n",
    "    model_type=model_type, \n",
    "    do_3D=do_3D,\n",
    "    remove_small_mode=remove_small_mode,\n",
    "    remove_small_diam_fraction=remove_small_diam_fraction,\n",
    "    flow_threshold=flow_threshold,\n",
    "    cellprob_threshold=cellprob_threshold,\n",
    "    gpu=gpu\n",
    ")\n",
    "params = save_parameters(params, parameter_file)\n",
    "    \n",
    "params"
   ]
  },
  {
   "cell_type": "code",
   "execution_count": null,
   "metadata": {},
   "outputs": [],
   "source": []
  }
 ],
 "metadata": {
  "kernelspec": {
   "display_name": "Python [conda env:punctatools]",
   "language": "python",
   "name": "conda-env-punctatools-py"
  },
  "language_info": {
   "codemirror_mode": {
    "name": "ipython",
    "version": 3
   },
   "file_extension": ".py",
   "mimetype": "text/x-python",
   "name": "python",
   "nbconvert_exporter": "python",
   "pygments_lexer": "ipython3",
   "version": "3.9.0"
  }
 },
 "nbformat": 4,
 "nbformat_minor": 4
}
