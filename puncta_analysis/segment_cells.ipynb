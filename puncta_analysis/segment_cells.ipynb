{
 "cells": [
  {
   "cell_type": "markdown",
   "metadata": {},
   "source": [
    "# Segmentation of cell nuclei with [Cellpose](http://www.cellpose.org/)\n",
    "\n",
    "This notebook segments cell nuclei in each z-layer and combines them into a 3D mask.\n",
    "\n",
    "#### Documentation\n",
    "\n",
    "- [Cellpose documentation](https://cellpose.readthedocs.io/en/latest/)\n",
    "- [Paper](https://www.biorxiv.org/content/10.1101/2020.02.02.931238v1)\n",
    "- [Code](https://github.com/MouseLand/cellpose)\n",
    "\n",
    "## Requirements\n",
    "- A folder with images that should be segmented. All z-layers for a specific sample must be combined into a single file. To combine z-layers and channels, run [images_to_stack.ipynb](images_to_stack.ipynb).\n",
    "\n",
    "## Config\n",
    "\n",
    "### The following code imports and declares functions used for the processing:"
   ]
  },
  {
   "cell_type": "code",
   "execution_count": null,
   "metadata": {},
   "outputs": [],
   "source": [
    "#################################\n",
    "#  Don't modify the code below  #\n",
    "#################################\n",
    "\n",
    "import os\n",
    "import re\n",
    "import time\n",
    "import numpy as np\n",
    "import intake_io\n",
    "import xarray as xr\n",
    "import warnings\n",
    "from tqdm import tqdm\n",
    "from skimage import io\n",
    "from skimage.morphology import remove_small_objects\n",
    "from scipy import ndimage\n",
    "import matplotlib.pyplot as plt\n",
    "from am_utils.utils import walk_dir, imsave\n",
    "\n",
    "from cellpose import models, utils, plot, transforms\n",
    "\n",
    "from lib import rescale_intensity"
   ]
  },
  {
   "cell_type": "markdown",
   "metadata": {},
   "source": [
    "## Specify data paths and analysis parameters\n",
    "\n",
    "### Please provide data paths:\n",
    "\n",
    "`input_dir`: folder with images of cells to be segmented\n",
    "\n",
    "`output_dir`: folder to save results\n",
    "\n",
    "`output_combined`: (optional) folder to save cell segmentation results combined with the raw data"
   ]
  },
  {
   "cell_type": "code",
   "execution_count": null,
   "metadata": {
    "tags": [
     "parameters"
    ]
   },
   "outputs": [],
   "source": [
    "input_dir = \"/research/sharedresources/cbi/common/Anna/test/input\"\n",
    "output_dir = \"/research/sharedresources/cbi/common/Anna/test/Analysis/cell_segmentation\"\n",
    "output_combined = None"
   ]
  },
  {
   "cell_type": "markdown",
   "metadata": {},
   "source": [
    "### The following code lists all image files in the input directory:"
   ]
  },
  {
   "cell_type": "code",
   "execution_count": null,
   "metadata": {},
   "outputs": [],
   "source": [
    "#################################\n",
    "#  Don't modify the code below  #\n",
    "#################################\n",
    "\n",
    "samples = walk_dir(input_dir)\n",
    "\n",
    "print(f'{len(samples)} images were found:')\n",
    "print(np.array(samples))"
   ]
  },
  {
   "cell_type": "markdown",
   "metadata": {},
   "source": [
    "### The following code loads a random image"
   ]
  },
  {
   "cell_type": "code",
   "execution_count": null,
   "metadata": {},
   "outputs": [],
   "source": [
    "#################################\n",
    "#  Don't modify the code below  #\n",
    "#################################\n",
    "\n",
    "sample = samples[np.random.randint(len(samples))]\n",
    "dataset = intake_io.imload(sample)\n",
    "print(dataset)\n",
    "\n",
    "print('\\n\\nThe following voxel sizes were detected:')\n",
    "coords = dict({'x': None, 'y': None, 'z': None})\n",
    "for c in ['x', 'y', 'z']:\n",
    "    if c in dataset.coords:\n",
    "        coords[c] = dataset.coords[c].data[1]\n",
    "        print(rf'{c}: {dataset.coords[c].data[1]}')\n",
    "    else:\n",
    "        if c in dataset.dims:\n",
    "            print(rf'{c}: not detected, will use 1')\n",
    "            \n",
    "print('\\n The following channels have been detected:')\n",
    "print(dataset['c'].data)"
   ]
  },
  {
   "cell_type": "markdown",
   "metadata": {},
   "source": [
    "### Please specify correct voxel size\n",
    "\n",
    "Keep `None`, if the value loaded from the dataset is correct"
   ]
  },
  {
   "cell_type": "code",
   "execution_count": null,
   "metadata": {},
   "outputs": [],
   "source": [
    "x = None\n",
    "y = None\n",
    "z = None"
   ]
  },
  {
   "cell_type": "markdown",
   "metadata": {},
   "source": [
    "### Please specify channels names\n",
    "\n",
    "If you'd like to relabel channels, specify channel names as an array (e.g. ['channel_1', 'channel_2']). Specify `None` to keep the default channel labels."
   ]
  },
  {
   "cell_type": "code",
   "execution_count": null,
   "metadata": {},
   "outputs": [],
   "source": [
    "channel_names = ['DNA', 'GFP']"
   ]
  },
  {
   "cell_type": "markdown",
   "metadata": {},
   "source": [
    "### The following code updates voxel sizes and channel names:"
   ]
  },
  {
   "cell_type": "code",
   "execution_count": null,
   "metadata": {},
   "outputs": [],
   "source": [
    "#################################\n",
    "#  Don't modify the code below  #\n",
    "#################################\n",
    "if channel_names is None:\n",
    "    channel_names = dataset['c'].data\n",
    "vs = [x, y, z]\n",
    "for i, c in enumerate(['x', 'y', 'z']):\n",
    "    if vs[i] is not None:\n",
    "        coords[c] = vs[i]\n",
    "dataset = intake_io.imload(sample, metadata={\"spacing\": coords,\n",
    "                                             \"coords\": {'c': channel_names}})\n",
    "\n",
    "dataset"
   ]
  },
  {
   "cell_type": "markdown",
   "metadata": {},
   "source": [
    "### Specify the channel to segment"
   ]
  },
  {
   "cell_type": "code",
   "execution_count": null,
   "metadata": {},
   "outputs": [],
   "source": [
    "channel = 'DNA'"
   ]
  },
  {
   "cell_type": "markdown",
   "metadata": {},
   "source": [
    "### The following code displays an example image"
   ]
  },
  {
   "cell_type": "code",
   "execution_count": null,
   "metadata": {},
   "outputs": [],
   "source": [
    "img = dataset.loc[dict(c=channel, z=dataset['z'][int(len(dataset['z'])/2 - 0.5)])]['image'].data\n",
    "plt.figure(figsize=(8,8))\n",
    "io.imshow(img)"
   ]
  },
  {
   "cell_type": "markdown",
   "metadata": {},
   "source": [
    "### Please specify model parameters\n",
    "\n",
    "`diameter`: average nucleus diameter in pixels; set to `None` to automatically detect the cell diameter\n",
    "\n",
    "`model_type`: `nuclei` for nuclei segmentationm, `cyto` to segment cells\n",
    "\n",
    "`do_3D`: to perform segmentation in 3D set to `True`, to segment layer-by-layer set to `False`. If there is only one layer of cells, choose `False` since the 2D segmentation is faster"
   ]
  },
  {
   "cell_type": "code",
   "execution_count": null,
   "metadata": {},
   "outputs": [],
   "source": [
    "diameter = 120 \n",
    "model_type = \"cyto\" # it seems like the \"cyto\" model works better for this dataset\n",
    "do_3D = False"
   ]
  },
  {
   "cell_type": "markdown",
   "metadata": {},
   "source": [
    "### Advanced parameters (do not change unless you know what you do):\n",
    "\n",
    "`flow_threshold`: increase if model returns too few masks, decrease if model returns too many ill-shaped masks\n",
    "\n",
    "`probability_threshold`:  decrease if model returns too few cells, increase if model returns too many cells  \n",
    "Values should be between -6 and +6"
   ]
  },
  {
   "cell_type": "code",
   "execution_count": null,
   "metadata": {},
   "outputs": [],
   "source": [
    "flow_threshold = 0.4        # default: 0.4\n",
    "probability_threshold = 0   # default: 0.0\n",
    "channels = [0,0]"
   ]
  },
  {
   "cell_type": "markdown",
   "metadata": {},
   "source": [
    "### The following code segments the random image and displays the results:"
   ]
  },
  {
   "cell_type": "code",
   "execution_count": null,
   "metadata": {},
   "outputs": [],
   "source": [
    "#################################\n",
    "#  Don't modify the code below  #\n",
    "#################################\n",
    "if do_3D:\n",
    "    img = dataset.loc[dict(c=channel)]['image'].data\n",
    "    anisotropy = dataset.coords['z'].data[1]/dataset.coords['x'].data[1]\n",
    "else:\n",
    "    img = dataset.loc[dict(c=channel, z=dataset['z'][int(len(dataset['z'])/2 - 0.5)])]['image'].data\n",
    "    anisotropy = None\n",
    "imgs = [rescale_intensity(np.array(img))]        \n",
    "model = models.Cellpose(gpu=True, model_type=model_type)\n",
    "masks, flows, styles, diams = model.eval(imgs, channels=channels, diameter=diameter, \n",
    "                                         flow_threshold=flow_threshold, cellprob_threshold=probability_threshold,\n",
    "                                         do_3D=do_3D, anisotropy=anisotropy)\n",
    "\n",
    "#display the results\n",
    "for i in range(len(imgs)):\n",
    "    maski = masks[i]\n",
    "    flowi = flows[i][0]\n",
    "    img = imgs[i]\n",
    "    fig = plt.figure(figsize=(30,10))\n",
    "    if len(img.shape) > 2:\n",
    "        img = img[int(img.shape[0]/2)]\n",
    "        maski = maski[int(maski.shape[0]/2)]\n",
    "        flowi = flowi[int(flowi.shape[0]/2)]\n",
    "    plot.show_segmentation(fig, img, maski, flowi, channels=channels)\n",
    "    plt.tight_layout()\n",
    "    plt.show()"
   ]
  },
  {
   "cell_type": "markdown",
   "metadata": {},
   "source": [
    "### The following code segments all images and saves the results: "
   ]
  },
  {
   "cell_type": "code",
   "execution_count": null,
   "metadata": {
    "scrolled": true
   },
   "outputs": [],
   "source": [
    "%%time\n",
    "#################################\n",
    "#  Don't modify the code below  #\n",
    "#################################\n",
    "\n",
    "for i, sample in enumerate(samples):\n",
    "    print(sample)\n",
    "    print(fr'Processing sample {i+1} of {len(samples)}')\n",
    "    dataset = intake_io.imload(sample, metadata={\"spacing\": coords,\n",
    "                                                 \"coords\": {'c': channel_names}})\n",
    "\n",
    "    if do_3D or len(dataset['z']) == 1:\n",
    "        imgs = [dataset.loc[dict(c=channel)]['image'].data]\n",
    "    else:\n",
    "        imgs = dataset.loc[dict(c=channel)]['image'].data\n",
    "    if len(dataset['z']) > 1:\n",
    "        anisotropy = dataset.coords['z'].data[1]/dataset.coords['x'].data[1]\n",
    "    else:\n",
    "        anisotropy = None\n",
    "    imgs = [rescale_intensity(np.array(img)) for img in imgs] \n",
    "\n",
    "    model = models.Cellpose(gpu=True, model_type=model_type)\n",
    "    masks, flows, styles, diams = model.eval(imgs, channels=channels, diameter=diameter, \n",
    "                                             flow_threshold=flow_threshold, cellprob_threshold=probability_threshold,\n",
    "                                             do_3D=do_3D, anisotropy=anisotropy)\n",
    "\n",
    "\n",
    "    if do_3D or len(dataset['z']) == 1:\n",
    "        output = masks[0]\n",
    "    else:\n",
    "        output = np.array(masks)\n",
    "\n",
    "    if do_3D is False and len(output.shape) > 2:\n",
    "\n",
    "        area = (output > 0).sum(-1).sum(-1)\n",
    "        if len(area) > 21:\n",
    "            ind = np.argmax(area[10:-10]) + 10\n",
    "        else:\n",
    "            ind = np.argmax(area) \n",
    "        labels = output[ind:ind+1].copy()\n",
    "        output = ndimage.median_filter(output > 0, 3)\n",
    "        output = output * labels\n",
    "        minvol = 4./3*np.pi*(diameter/4)**3\n",
    "        output = remove_small_objects(output, min_size=minvol)\n",
    "\n",
    "    fn = sample[len(input_dir):]\n",
    "    fn = fn.replace(fn.split('.')[-1], 'tif')\n",
    "    imsave(output_dir + fn, output.astype(np.uint16))\n",
    "\n",
    "    if output_combined is not None:\n",
    "        stack = np.zeros((len(channel_names) + 1,) + output.shape)\n",
    "        for ch_ind, chname in enumerate(channel_names):\n",
    "            stack[ch_ind] = np.array(dataset.loc[dict(c=chname)]['image'].data)\n",
    "        stack[-1] = output\n",
    "        \n",
    "        stack = xr.Dataset(data_vars=dict(image=(dataset['image'].dims, stack.astype(np.uint16))),\n",
    "                           coords=dict(c=channel_names + ['Nuclei segmentation'], x=dataset.coords['x'], y=dataset.coords['y'], z=dataset.coords['z']),\n",
    "                           attrs=dataset.attrs)\n",
    "        stack['image'].attrs = dataset['image'].attrs\n",
    "    \n",
    "        os.makedirs(os.path.dirname(output_combined + fn), exist_ok=True)\n",
    "        intake_io.imsave(stack, output_combined + fn)\n",
    "        \n",
    "    "
   ]
  },
  {
   "cell_type": "code",
   "execution_count": null,
   "metadata": {},
   "outputs": [],
   "source": []
  }
 ],
 "metadata": {
  "kernelspec": {
   "display_name": "Python [conda env:nup98_puncta]",
   "language": "python",
   "name": "conda-env-nup98_puncta-py"
  },
  "language_info": {
   "codemirror_mode": {
    "name": "ipython",
    "version": 3
   },
   "file_extension": ".py",
   "mimetype": "text/x-python",
   "name": "python",
   "nbconvert_exporter": "python",
   "pygments_lexer": "ipython3",
   "version": "3.8.6"
  }
 },
 "nbformat": 4,
 "nbformat_minor": 4
}
