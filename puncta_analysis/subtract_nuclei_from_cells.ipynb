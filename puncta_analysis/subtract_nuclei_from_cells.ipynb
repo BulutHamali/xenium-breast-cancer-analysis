{
 "cells": [
  {
   "cell_type": "markdown",
   "metadata": {},
   "source": [
    "# Subtract nuclei masks from cell masks to obtain cytoplasm\n",
    "\n",
    "\n",
    "## Requirements\n",
    "- A folder with segmented cells\n",
    "- A folder with segmented nuclei\n",
    "\n",
    "## Config\n",
    "\n",
    "### The following code imports and declares functions used for the processing:"
   ]
  },
  {
   "cell_type": "code",
   "execution_count": 1,
   "metadata": {},
   "outputs": [],
   "source": [
    "#################################\n",
    "#  Don't modify the code below  #\n",
    "#################################\n",
    "\n",
    "import os\n",
    "import re\n",
    "import time\n",
    "import numpy as np\n",
    "import xarray as xr\n",
    "import warnings\n",
    "from tqdm import tqdm\n",
    "from skimage import io\n",
    "from scipy import ndimage\n",
    "import matplotlib.pyplot as plt\n",
    "from am_utils.utils import walk_dir, imsave\n"
   ]
  },
  {
   "cell_type": "markdown",
   "metadata": {},
   "source": [
    "## Specify data paths and analysis parameters\n",
    "\n",
    "### Please provide data paths and other parameters:\n",
    "\n",
    "`nuclei_dir`: folder with segmented nuclei images\n",
    "\n",
    "`cell_dir`: folder with segmented cell images with the same naming and the same number of images\n",
    "\n",
    "`output_dir`: folder to save results\n",
    "\n",
    "`match_labels`: set to `True` to relable nuclei to match cell labels\n",
    "\n",
    "`base_label`: set to `nuclei` to use the nuclei segmentation as a basis for relabelling; set to `cell` to use cell segmentation as a basis for relabelling\n"
   ]
  },
  {
   "cell_type": "code",
   "execution_count": 2,
   "metadata": {},
   "outputs": [],
   "source": [
    "nuclei_dir = \"/research/sharedresources/cbi/public/data/example_data/cytoplasm_segmentation/2D/nuclei\"\n",
    "cell_dir = \"/research/sharedresources/cbi/public/data/example_data/cytoplasm_segmentation/2D/cells\"\n",
    "output_dir = \"/research/sharedresources/cbi/public/data/_outputs/cytoplasm_segmentation/2D\"\n",
    "match_labels = True\n",
    "\n",
    "# nuclei_dir = \"/research/sharedresources/cbi/public/data/example_data/cytoplasm_segmentation/3D/nuclei\"\n",
    "# cell_dir = \"/research/sharedresources/cbi/public/data/example_data/cytoplasm_segmentation/3D/cells\"\n",
    "# output_dir = \"/research/sharedresources/cbi/public/data/_outputs/cytoplasm_segmentation/3D\"\n",
    "# match_labels = True"
   ]
  },
  {
   "cell_type": "markdown",
   "metadata": {},
   "source": [
    "### The following code lists all image files in the input directory:"
   ]
  },
  {
   "cell_type": "code",
   "execution_count": 3,
   "metadata": {},
   "outputs": [
    {
     "name": "stdout",
     "output_type": "stream",
     "text": [
      "1 images were found:\n",
      "['/research/sharedresources/cbi/public/data/example_data/cytoplasm_segmentation/2D/nuclei/FluorescentCells.tif']\n"
     ]
    }
   ],
   "source": [
    "#################################\n",
    "#  Don't modify the code below  #\n",
    "#################################\n",
    "\n",
    "samples = walk_dir(nuclei_dir)\n",
    "\n",
    "print(f'{len(samples)} images were found:')\n",
    "print(np.array(samples))"
   ]
  },
  {
   "cell_type": "markdown",
   "metadata": {},
   "source": [
    "### The following code loads and displays a random pair of images"
   ]
  },
  {
   "cell_type": "code",
   "execution_count": 4,
   "metadata": {},
   "outputs": [
    {
     "name": "stderr",
     "output_type": "stream",
     "text": [
      "/apps/conda_envs/intake_io/lib/python3.8/site-packages/skimage/io/_plugins/matplotlib_plugin.py:150: UserWarning: Low image data range; displaying image with stretched contrast.\n",
      "  lo, hi, cmap = _get_display_range(image)\n"
     ]
    },
    {
     "data": {
      "image/png": "[encoded data removed]",
      "text/plain": [
       "<Figure size 864x432 with 4 Axes>"
      ]
     },
     "metadata": {
      "needs_background": "light"
     },
     "output_type": "display_data"
    }
   ],
   "source": [
    "#################################\n",
    "#  Don't modify the code below  #\n",
    "#################################\n",
    "\n",
    "sample = samples[np.random.randint(len(samples))]\n",
    "nuclei = io.imread(sample)\n",
    "cells = io.imread(sample.replace(nuclei_dir, cell_dir))\n",
    "titles = ['Nuclei', 'Cells']\n",
    "imgs = [nuclei, cells]\n",
    "\n",
    "fig, axs = plt.subplots(1, 2, figsize=(12,6))\n",
    "for i in range(len(titles)):\n",
    "    plt.sca(axs[i])\n",
    "    img = imgs[i]\n",
    "    while len(img.shape) > 2:\n",
    "        img = img.max(0)\n",
    "    io.imshow(img)\n",
    "    plt.title(titles[i])\n"
   ]
  },
  {
   "cell_type": "markdown",
   "metadata": {},
   "source": [
    "### The following code processes the example image"
   ]
  },
  {
   "cell_type": "code",
   "execution_count": 5,
   "metadata": {},
   "outputs": [
    {
     "data": {
      "image/png": "[encoded data removed]",
      "text/plain": [
       "<Figure size 864x432 with 6 Axes>"
      ]
     },
     "metadata": {
      "needs_background": "light"
     },
     "output_type": "display_data"
    }
   ],
   "source": [
    "#################################\n",
    "#  Don't modify the code below  #\n",
    "#################################\n",
    "\n",
    "# relable nuclei\n",
    "if match_labels:\n",
    "    nuclei = (nuclei > 0) * cells\n",
    "        \n",
    "# extract cytoplasm\n",
    "cytoplasm  = cells * (nuclei == 0)\n",
    "        \n",
    "titles = ['Nuclei', 'Cells', 'Cytoplasm']\n",
    "imgs = [nuclei, cells, cytoplasm]\n",
    "\n",
    "fig, axs = plt.subplots(1, 3, figsize=(12,6))\n",
    "for i in range(len(titles)):\n",
    "    plt.sca(axs[i])\n",
    "    img = imgs[i]\n",
    "    while len(img.shape) > 2:\n",
    "        img = img.max(0)\n",
    "    io.imshow(img)\n",
    "    plt.title(titles[i])"
   ]
  },
  {
   "cell_type": "markdown",
   "metadata": {},
   "source": [
    "### The following code processes all images and saves the results: "
   ]
  },
  {
   "cell_type": "code",
   "execution_count": 6,
   "metadata": {},
   "outputs": [
    {
     "name": "stderr",
     "output_type": "stream",
     "text": [
      "1it [00:00, 26.63it/s]"
     ]
    },
    {
     "name": "stdout",
     "output_type": "stream",
     "text": [
      "CPU times: user 9.66 ms, sys: 5.22 ms, total: 14.9 ms\n",
      "Wall time: 40.9 ms\n"
     ]
    },
    {
     "name": "stderr",
     "output_type": "stream",
     "text": [
      "\n"
     ]
    }
   ],
   "source": [
    "%%time\n",
    "#################################\n",
    "#  Don't modify the code below  #\n",
    "#################################\n",
    "\n",
    "for i, sample in tqdm(enumerate(samples)):\n",
    "    sample = samples[np.random.randint(len(samples))]\n",
    "    nuclei = io.imread(sample)\n",
    "    \n",
    "    # relable nuclei\n",
    "    if match_labels:\n",
    "        nuclei = (nuclei > 0) * cells\n",
    "        imsave(sample, nuclei)\n",
    "\n",
    "    # extract cytoplasm\n",
    "    cytoplasm  = cells * (nuclei == 0)\n",
    "    imsave(sample.replace(nuclei_dir, output_dir), cytoplasm)\n",
    "    "
   ]
  },
  {
   "cell_type": "code",
   "execution_count": null,
   "metadata": {},
   "outputs": [],
   "source": []
  }
 ],
 "metadata": {
  "kernelspec": {
   "display_name": "intake_io",
   "language": "python",
   "name": "intake_io"
  },
  "language_info": {
   "codemirror_mode": {
    "name": "ipython",
    "version": 3
   },
   "file_extension": ".py",
   "mimetype": "text/x-python",
   "name": "python",
   "nbconvert_exporter": "python",
   "pygments_lexer": "ipython3",
   "version": "3.8.6"
  }
 },
 "nbformat": 4,
 "nbformat_minor": 4
}
