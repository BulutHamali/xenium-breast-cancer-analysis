{
 "cells": [
  {
   "cell_type": "markdown",
   "metadata": {},
   "source": [
    "# Calculate histogram of each input image\n",
    "\n",
    "## Requirements\n",
    "- A folder with images \n",
    "\n",
    "## Config\n",
    "\n",
    "### The following code imports and declares functions used for the processing:"
   ]
  },
  {
   "cell_type": "code",
   "execution_count": null,
   "metadata": {},
   "outputs": [],
   "source": [
    "#################################\n",
    "#  Don't modify the code below  #\n",
    "#################################\n",
    "\n",
    "import os\n",
    "import re\n",
    "import time\n",
    "import numpy as np\n",
    "import intake_io\n",
    "import pandas as pd\n",
    "from tqdm import tqdm\n",
    "from am_utils.utils import walk_dir"
   ]
  },
  {
   "cell_type": "markdown",
   "metadata": {},
   "source": [
    "## Specify data paths and analysis parameters\n",
    "\n",
    "### Please provide data paths:\n",
    "\n",
    "`input_dir`: folder with images of cells to be processed\n",
    "\n",
    "`output_dir`: folder to save results"
   ]
  },
  {
   "cell_type": "code",
   "execution_count": null,
   "metadata": {
    "tags": [
     "parameters"
    ]
   },
   "outputs": [],
   "source": [
    "input_dir = \"/research/sharedresources/cbi/common/Anna/test/input\"\n",
    "output_dir = \"/research/sharedresources/cbi/common/Anna/test/histogram\""
   ]
  },
  {
   "cell_type": "markdown",
   "metadata": {},
   "source": [
    "### The following code lists all image files in the input directory:"
   ]
  },
  {
   "cell_type": "code",
   "execution_count": null,
   "metadata": {
    "scrolled": true
   },
   "outputs": [],
   "source": [
    "#################################\n",
    "#  Don't modify the code below  #\n",
    "#################################\n",
    "\n",
    "samples = walk_dir(input_dir)\n",
    "\n",
    "print(f'{len(samples)} images were found:')\n",
    "print(np.array(samples))"
   ]
  },
  {
   "cell_type": "markdown",
   "metadata": {},
   "source": [
    "### The following code computes histograms for all images"
   ]
  },
  {
   "cell_type": "code",
   "execution_count": null,
   "metadata": {},
   "outputs": [],
   "source": [
    "#################################\n",
    "#  Don't modify the code below  #\n",
    "#################################\n",
    "\n",
    "all_hist = pd.DataFrame()\n",
    "\n",
    "for sample in tqdm(samples):\n",
    "    dataset = intake_io.imload(sample)\n",
    "\n",
    "    imghist = pd.DataFrame()\n",
    "    for i in range(dataset.dims['c']):\n",
    "        img = dataset.loc[dict(c=dataset.coords['c'][i])]['image'].data\n",
    "        hist, bins = np.histogram(img, bins=np.max(img)+1, range=(0, np.max(img)+1))\n",
    "        chist = pd.DataFrame({\n",
    "            'values': bins[:-1],\n",
    "            'counts': hist\n",
    "        })\n",
    "        chist = chist[chist['counts'] > 0]\n",
    "        chist['channel'] = dataset.coords['c'][i].data\n",
    "        imghist = pd.concat([imghist, chist], ignore_index=True)\n",
    "    imghist['Image name'] = sample\n",
    "    fn_out = sample.replace(input_dir, output_dir).replace('.'+sample.split('.')[-1], '.csv')\n",
    "    os.makedirs(os.path.dirname(fn_out), exist_ok=True)\n",
    "    imghist.to_csv(fn_out, index=False)\n",
    "    all_hist = pd.concat([all_hist, imghist], ignore_index=True)\n",
    "all_hist.to_csv(output_dir + '.csv', index=False)"
   ]
  },
  {
   "cell_type": "code",
   "execution_count": null,
   "metadata": {},
   "outputs": [],
   "source": []
  }
 ],
 "metadata": {
  "kernelspec": {
   "display_name": "Python [conda env:nup98_puncta]",
   "language": "python",
   "name": "conda-env-nup98_puncta-py"
  },
  "language_info": {
   "codemirror_mode": {
    "name": "ipython",
    "version": 3
   },
   "file_extension": ".py",
   "mimetype": "text/x-python",
   "name": "python",
   "nbconvert_exporter": "python",
   "pygments_lexer": "ipython3",
   "version": "3.8.6"
  }
 },
 "nbformat": 4,
 "nbformat_minor": 4
}
