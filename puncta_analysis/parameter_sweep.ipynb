{
 "cells": [
  {
   "cell_type": "markdown",
   "metadata": {},
   "source": [
    "## Parameters"
   ]
  },
  {
   "cell_type": "code",
   "execution_count": null,
   "metadata": {
    "tags": [
     "parameters"
    ]
   },
   "outputs": [],
   "source": [
    "input_dir = \"/research/sharedresources/cbi/common/Anna/test/input\"\n",
    "segm_dir = \"/research/sharedresources/cbi/common/Anna/test/Analysis/cell_segmentation\"\n",
    "output_dir = \"/research/sharedresources/cbi/common/Anna/test/Analysis/parameter_sweep\"\n",
    "output_code_dir = \"outputs_parameter_sweep\"\n",
    "\n",
    "\n",
    "cell_stats_dir = 'quantification_cells'\n",
    "puncta_stats_dir = 'quantification_puncta'\n",
    "puncta_segm_dir = 'puncta_segmentation_with_raw'\n",
    "\n",
    "\n",
    "minsize_um = 0.2  \n",
    "maxsize_um = 2  \n",
    "num_sigma = 5  \n",
    "\n",
    "overlap = 1  \n",
    "threshold_detection = 0.003 \n",
    "threshold_segmentation = 0.001  \n",
    "\n",
    "threshold_background = 3\n",
    "\n",
    "max_threads = 20   \n",
    "segmentation_mode = 0"
   ]
  },
  {
   "cell_type": "code",
   "execution_count": null,
   "metadata": {},
   "outputs": [],
   "source": [
    "#################################\n",
    "#  Don't modify the code below  #\n",
    "#################################\n",
    "import os\n",
    "code_dir = os.getcwd()\n",
    "os.makedirs(os.path.join(code_dir, output_code_dir), exist_ok=True)"
   ]
  },
  {
   "cell_type": "markdown",
   "metadata": {},
   "source": [
    "## Loop over parameter values\n",
    "\n",
    "Please change the list of values in the loop according to your needs.\n",
    "\n",
    "Also, you can change the parameters to loop over, and add new parameters/values to the `name` variable that is used to name the output folders"
   ]
  },
  {
   "cell_type": "code",
   "execution_count": null,
   "metadata": {},
   "outputs": [],
   "source": [
    "for threshold_detection in [0.003, 0.002]:\n",
    "    for threshold_segmentation in [0.001]:\n",
    "        for threshold_background in [3]:\n",
    "            name = rf\"thr_detection={threshold_detection}_thr_segm={threshold_segmentation}\"\\\n",
    "                   rf\"_thr_bg={threshold_background}\" \n",
    "            csd = rf\"{cell_stats_dir}/{name}\"\n",
    "            psd = rf\"{puncta_stats_dir}/{name}\"\n",
    "            psegd = rf\"{puncta_segm_dir}/{name}\" \n",
    "            print(name)\n",
    "            command = rf'source activate nup98_puncta; cd {code_dir}; papermill analyze_peaks_per_cell.ipynb ' \\\n",
    "                  rf' {output_code_dir}/analyze_peaks_per_cell_{name}.ipynb -p max_threads {max_threads} ' \\\n",
    "                  rf' -p input_dir {input_dir} -p output_dir {output_dir} -p segm_dir {segm_dir} ' \\\n",
    "                  rf' -p minsize_um {minsize_um} -p maxsize_um {maxsize_um} -p num_sigma {num_sigma}' \\\n",
    "                  rf' -p overlap {overlap} -p threshold_background {threshold_background}' \\\n",
    "                  rf' -p threshold_detection {threshold_detection} ' \\\n",
    "                  rf' -p segmentation_mode {segmentation_mode} ' \\\n",
    "                  rf' -p threshold_segmentation {threshold_segmentation}' \\\n",
    "                  rf' -p cell_stats_dir {csd} -p puncta_stats_dir {psd} -p puncta_segm_dir {psegd} ' \\\n",
    "                  rf' -k python3 ' \n",
    "            os.system(command)"
   ]
  },
  {
   "cell_type": "markdown",
   "metadata": {},
   "source": [
    "## Combine all statistics"
   ]
  },
  {
   "cell_type": "code",
   "execution_count": null,
   "metadata": {},
   "outputs": [],
   "source": [
    "#################################\n",
    "#  Don't modify the code below  #\n",
    "#################################\n",
    "\n",
    "import pandas as pd\n",
    "for stat_dir in [cell_stats_dir, puncta_stats_dir]:\n",
    "    stat_combined = pd.DataFrame()\n",
    "    files = os.listdir(os.path.join(output_dir, stat_dir))\n",
    "    for fn in files:\n",
    "        if fn.endswith('csv'):\n",
    "            stat = pd.read_csv(os.path.join(output_dir, stat_dir, fn))\n",
    "            stat_combined = pd.concat([stat_combined, stat], ignore_index=True)\n",
    "    stat_combined.to_csv(os.path.join(output_dir, stat_dir + '_combined.csv'), index=False)\n",
    "    "
   ]
  },
  {
   "cell_type": "code",
   "execution_count": null,
   "metadata": {},
   "outputs": [],
   "source": []
  }
 ],
 "metadata": {
  "kernelspec": {
   "display_name": "Python [conda env:nup98_puncta]",
   "language": "python",
   "name": "conda-env-nup98_puncta-py"
  },
  "language_info": {
   "codemirror_mode": {
    "name": "ipython",
    "version": 3
   },
   "file_extension": ".py",
   "mimetype": "text/x-python",
   "name": "python",
   "nbconvert_exporter": "python",
   "pygments_lexer": "ipython3",
   "version": "3.8.6"
  }
 },
 "nbformat": 4,
 "nbformat_minor": 4
}
