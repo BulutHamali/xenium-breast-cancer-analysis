{
 "cells": [
  {
   "cell_type": "markdown",
   "metadata": {},
   "source": [
    "# Subtract background\n",
    "\n",
    "Substract a specified value from each image\n",
    "\n",
    "## Requirements\n",
    "- A folder with images \n",
    "\n",
    "## Config\n",
    "\n",
    "### The following code imports and declares functions used for the processing:"
   ]
  },
  {
   "cell_type": "code",
   "execution_count": null,
   "metadata": {},
   "outputs": [],
   "source": [
    "#################################\n",
    "#  Don't modify the code below  #\n",
    "#################################\n",
    "\n",
    "import os\n",
    "import re\n",
    "import time\n",
    "import numpy as np\n",
    "import intake_io\n",
    "import pandas as pd\n",
    "from tqdm import tqdm\n",
    "from am_utils.utils import walk_dir"
   ]
  },
  {
   "cell_type": "markdown",
   "metadata": {},
   "source": [
    "## Specify data paths and analysis parameters\n",
    "\n",
    "### Please provide data paths:\n",
    "\n",
    "`input_dir`: folder with images of cells to be processed\n",
    "\n",
    "`output_dir`: folder to save results\n",
    "\n",
    "`bg_value`: number or a list (for each channel)"
   ]
  },
  {
   "cell_type": "code",
   "execution_count": null,
   "metadata": {
    "tags": [
     "parameters"
    ]
   },
   "outputs": [],
   "source": [
    "input_dir = \"/research/sharedresources/cbi/common/Anna/test/input\"\n",
    "output_dir = \"/research/sharedresources/cbi/common/Anna/test/bg_corrected\"\n",
    "bg_value = [50, 80, 60]"
   ]
  },
  {
   "cell_type": "markdown",
   "metadata": {},
   "source": [
    "### The following code lists all image files in the input directory:"
   ]
  },
  {
   "cell_type": "code",
   "execution_count": null,
   "metadata": {
    "scrolled": true
   },
   "outputs": [],
   "source": [
    "#################################\n",
    "#  Don't modify the code below  #\n",
    "#################################\n",
    "\n",
    "samples = walk_dir(input_dir)\n",
    "\n",
    "print(f'{len(samples)} images were found:')\n",
    "print(np.array(samples))"
   ]
  },
  {
   "cell_type": "markdown",
   "metadata": {},
   "source": [
    "### The following code subtracts background for all images"
   ]
  },
  {
   "cell_type": "code",
   "execution_count": null,
   "metadata": {},
   "outputs": [],
   "source": [
    "#################################\n",
    "#  Don't modify the code below  #\n",
    "#################################\n",
    "\n",
    "bg_value = np.array([bg_value]).ravel()\n",
    "\n",
    "for sample in tqdm(samples):\n",
    "    dataset = intake_io.imload(sample)\n",
    "    channels = dataset.coords['c'].data\n",
    "    \n",
    "    if len(bg_value) >= len(channels):\n",
    "        for i in range(len(channels)):\n",
    "            img = dataset.loc[dict(c=channels[i])]['image'].data\n",
    "            img = np.clip(img, bg_value[i], None)\n",
    "            dataset['image'].loc[dict(c=channels[i])] = img - bg_value[i]\n",
    "    else:\n",
    "        img = dataset['image'].data\n",
    "        img = np.clip(img, bg_value[0], None)\n",
    "        dataset['image'].data = img - bg_value[0]\n",
    "\n",
    "    fn_out = sample.replace(input_dir, output_dir)\n",
    "    os.makedirs(os.path.dirname(fn_out), exist_ok=True)\n",
    "    intake_io.imsave(dataset, fn_out)"
   ]
  },
  {
   "cell_type": "code",
   "execution_count": null,
   "metadata": {},
   "outputs": [],
   "source": []
  }
 ],
 "metadata": {
  "kernelspec": {
   "display_name": "Python [conda env:nup98_puncta]",
   "language": "python",
   "name": "conda-env-nup98_puncta-py"
  },
  "language_info": {
   "codemirror_mode": {
    "name": "ipython",
    "version": 3
   },
   "file_extension": ".py",
   "mimetype": "text/x-python",
   "name": "python",
   "nbconvert_exporter": "python",
   "pygments_lexer": "ipython3",
   "version": "3.8.6"
  }
 },
 "nbformat": 4,
 "nbformat_minor": 4
}
